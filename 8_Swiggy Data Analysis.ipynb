{
 "cells": [
  {
   "cell_type": "markdown",
   "metadata": {
    "id": "hBMg5qhznDoz"
   },
   "source": [
    "# Swiggy Data Analysis"
   ]
  },
  {
   "cell_type": "code",
   "execution_count": 1,
   "metadata": {
    "executionInfo": {
     "elapsed": 825,
     "status": "ok",
     "timestamp": 1630305091027,
     "user": {
      "displayName": "charu chaudhary",
      "photoUrl": "",
      "userId": "15964787324055720300"
     },
     "user_tz": -330
    },
    "id": "BYEX6Yd9nCGD"
   },
   "outputs": [],
   "source": [
    "import pandas as pd\n",
    "import numpy as np\n",
    "import matplotlib.pyplot as plt\n",
    "import seaborn as sns"
   ]
  },
  {
   "cell_type": "code",
   "execution_count": 2,
   "metadata": {
    "executionInfo": {
     "elapsed": 95,
     "status": "ok",
     "timestamp": 1630305091029,
     "user": {
      "displayName": "charu chaudhary",
      "photoUrl": "",
      "userId": "15964787324055720300"
     },
     "user_tz": -330
    },
    "id": "bJCmPNvDoAjh"
   },
   "outputs": [],
   "source": [
    "swiggy_data= pd.read_csv('Swiggy Bangalore Outlet Details.csv',sep=',',quotechar='\"')"
   ]
  },
  {
   "cell_type": "code",
   "execution_count": 3,
   "metadata": {
    "colab": {
     "base_uri": "https://localhost:8080/",
     "height": 414
    },
    "executionInfo": {
     "elapsed": 92,
     "status": "ok",
     "timestamp": 1630305091030,
     "user": {
      "displayName": "charu chaudhary",
      "photoUrl": "",
      "userId": "15964787324055720300"
     },
     "user_tz": -330
    },
    "id": "YAcv2ZXlW80k",
    "outputId": "ba79c6eb-16fe-48cf-c318-1cb93ce4187b"
   },
   "outputs": [
    {
     "data": {
      "text/html": [
       "<div>\n",
       "<style scoped>\n",
       "    .dataframe tbody tr th:only-of-type {\n",
       "        vertical-align: middle;\n",
       "    }\n",
       "\n",
       "    .dataframe tbody tr th {\n",
       "        vertical-align: top;\n",
       "    }\n",
       "\n",
       "    .dataframe thead th {\n",
       "        text-align: right;\n",
       "    }\n",
       "</style>\n",
       "<table border=\"1\" class=\"dataframe\">\n",
       "  <thead>\n",
       "    <tr style=\"text-align: right;\">\n",
       "      <th></th>\n",
       "      <th>Shop_Name</th>\n",
       "      <th>Cuisine</th>\n",
       "      <th>Location</th>\n",
       "      <th>Rating</th>\n",
       "      <th>Cost_for_Two</th>\n",
       "    </tr>\n",
       "  </thead>\n",
       "  <tbody>\n",
       "    <tr>\n",
       "      <th>0</th>\n",
       "      <td>Kanti Sweets</td>\n",
       "      <td>Sweets</td>\n",
       "      <td>Koramangala, Koramangala</td>\n",
       "      <td>4.3</td>\n",
       "      <td>₹ 150</td>\n",
       "    </tr>\n",
       "    <tr>\n",
       "      <th>1</th>\n",
       "      <td>Mumbai Tiffin</td>\n",
       "      <td>North Indian, Home Food, Thalis, Combo</td>\n",
       "      <td>Sector 5, HSR</td>\n",
       "      <td>4.4</td>\n",
       "      <td>₹ 400</td>\n",
       "    </tr>\n",
       "    <tr>\n",
       "      <th>2</th>\n",
       "      <td>Sri Krishna sagar</td>\n",
       "      <td>South Indian, North Indian, Fast Food, Beverag...</td>\n",
       "      <td>6th Block, Koramangala</td>\n",
       "      <td>4.1</td>\n",
       "      <td>₹ 126</td>\n",
       "    </tr>\n",
       "    <tr>\n",
       "      <th>3</th>\n",
       "      <td>Al Daaz</td>\n",
       "      <td>American, Arabian, Chinese, Desserts, Fast Foo...</td>\n",
       "      <td>HSR, HSR</td>\n",
       "      <td>4.4</td>\n",
       "      <td>₹ 400</td>\n",
       "    </tr>\n",
       "    <tr>\n",
       "      <th>4</th>\n",
       "      <td>Beijing Bites</td>\n",
       "      <td>Chinese, Thai</td>\n",
       "      <td>5th Block, Koramangala</td>\n",
       "      <td>4.1</td>\n",
       "      <td>₹ 450</td>\n",
       "    </tr>\n",
       "    <tr>\n",
       "      <th>...</th>\n",
       "      <td>...</td>\n",
       "      <td>...</td>\n",
       "      <td>...</td>\n",
       "      <td>...</td>\n",
       "      <td>...</td>\n",
       "    </tr>\n",
       "    <tr>\n",
       "      <th>113</th>\n",
       "      <td>Wok Paper Scissors</td>\n",
       "      <td>Pan-Asian, Chinese, Asian</td>\n",
       "      <td>JNC Road, Koramangala</td>\n",
       "      <td>3.9</td>\n",
       "      <td>₹ 219</td>\n",
       "    </tr>\n",
       "    <tr>\n",
       "      <th>114</th>\n",
       "      <td>Savoury Restaurant</td>\n",
       "      <td>Arabian, Middle Eastern, North Indian, Grill, ...</td>\n",
       "      <td>Madiwala, BTM</td>\n",
       "      <td>4.1</td>\n",
       "      <td>₹ 600</td>\n",
       "    </tr>\n",
       "    <tr>\n",
       "      <th>115</th>\n",
       "      <td>Royal Treat</td>\n",
       "      <td>North Indian, Chinese, Seafood, Biryani</td>\n",
       "      <td>5th block Koramangala, Koramangala</td>\n",
       "      <td>4.2</td>\n",
       "      <td>₹ 193</td>\n",
       "    </tr>\n",
       "    <tr>\n",
       "      <th>116</th>\n",
       "      <td>Thali 99</td>\n",
       "      <td>North Indian</td>\n",
       "      <td>Koramangala, Koramangala</td>\n",
       "      <td>4.3</td>\n",
       "      <td>₹ 200</td>\n",
       "    </tr>\n",
       "    <tr>\n",
       "      <th>117</th>\n",
       "      <td>Mani's Dum Biryani</td>\n",
       "      <td>Andhra, Biryani</td>\n",
       "      <td>1st Block, Koramangala</td>\n",
       "      <td>4.2</td>\n",
       "      <td>₹ 400</td>\n",
       "    </tr>\n",
       "  </tbody>\n",
       "</table>\n",
       "<p>118 rows × 5 columns</p>\n",
       "</div>"
      ],
      "text/plain": [
       "              Shop_Name                                            Cuisine  \\\n",
       "0          Kanti Sweets                                             Sweets   \n",
       "1         Mumbai Tiffin             North Indian, Home Food, Thalis, Combo   \n",
       "2     Sri Krishna sagar  South Indian, North Indian, Fast Food, Beverag...   \n",
       "3               Al Daaz  American, Arabian, Chinese, Desserts, Fast Foo...   \n",
       "4         Beijing Bites                                      Chinese, Thai   \n",
       "..                  ...                                                ...   \n",
       "113  Wok Paper Scissors                          Pan-Asian, Chinese, Asian   \n",
       "114  Savoury Restaurant  Arabian, Middle Eastern, North Indian, Grill, ...   \n",
       "115         Royal Treat            North Indian, Chinese, Seafood, Biryani   \n",
       "116            Thali 99                                       North Indian   \n",
       "117  Mani's Dum Biryani                                    Andhra, Biryani   \n",
       "\n",
       "                               Location Rating Cost_for_Two  \n",
       "0              Koramangala, Koramangala    4.3        ₹ 150  \n",
       "1                         Sector 5, HSR    4.4        ₹ 400  \n",
       "2                6th Block, Koramangala    4.1        ₹ 126  \n",
       "3                              HSR, HSR    4.4        ₹ 400  \n",
       "4                5th Block, Koramangala    4.1        ₹ 450  \n",
       "..                                  ...    ...          ...  \n",
       "113               JNC Road, Koramangala    3.9        ₹ 219  \n",
       "114                       Madiwala, BTM    4.1        ₹ 600  \n",
       "115  5th block Koramangala, Koramangala    4.2        ₹ 193  \n",
       "116            Koramangala, Koramangala    4.3        ₹ 200  \n",
       "117              1st Block, Koramangala    4.2        ₹ 400  \n",
       "\n",
       "[118 rows x 5 columns]"
      ]
     },
     "execution_count": 3,
     "metadata": {},
     "output_type": "execute_result"
    }
   ],
   "source": [
    "swiggy_data"
   ]
  },
  {
   "cell_type": "code",
   "execution_count": 4,
   "metadata": {
    "colab": {
     "base_uri": "https://localhost:8080/"
    },
    "executionInfo": {
     "elapsed": 88,
     "status": "ok",
     "timestamp": 1630305091032,
     "user": {
      "displayName": "charu chaudhary",
      "photoUrl": "",
      "userId": "15964787324055720300"
     },
     "user_tz": -330
    },
    "id": "OEpCsEIgXcPz",
    "outputId": "175151c5-4372-420b-eac7-21dcf2e123e2"
   },
   "outputs": [
    {
     "data": {
      "text/plain": [
       "Shop_Name       118\n",
       "Cuisine         118\n",
       "Location        118\n",
       "Rating          118\n",
       "Cost_for_Two    118\n",
       "dtype: int64"
      ]
     },
     "execution_count": 4,
     "metadata": {},
     "output_type": "execute_result"
    }
   ],
   "source": [
    "swiggy_data.isnull().count()"
   ]
  },
  {
   "cell_type": "code",
   "execution_count": 5,
   "metadata": {
    "colab": {
     "base_uri": "https://localhost:8080/",
     "height": 171
    },
    "executionInfo": {
     "elapsed": 84,
     "status": "ok",
     "timestamp": 1630305091035,
     "user": {
      "displayName": "charu chaudhary",
      "photoUrl": "",
      "userId": "15964787324055720300"
     },
     "user_tz": -330
    },
    "id": "oY8v7IGdr1qY",
    "outputId": "d43158f1-e2a4-4615-d0bf-36a95d970b5f"
   },
   "outputs": [
    {
     "data": {
      "text/html": [
       "<div>\n",
       "<style scoped>\n",
       "    .dataframe tbody tr th:only-of-type {\n",
       "        vertical-align: middle;\n",
       "    }\n",
       "\n",
       "    .dataframe tbody tr th {\n",
       "        vertical-align: top;\n",
       "    }\n",
       "\n",
       "    .dataframe thead th {\n",
       "        text-align: right;\n",
       "    }\n",
       "</style>\n",
       "<table border=\"1\" class=\"dataframe\">\n",
       "  <thead>\n",
       "    <tr style=\"text-align: right;\">\n",
       "      <th></th>\n",
       "      <th>Shop_Name</th>\n",
       "      <th>Cuisine</th>\n",
       "      <th>Location</th>\n",
       "      <th>Rating</th>\n",
       "      <th>Cost_for_Two</th>\n",
       "    </tr>\n",
       "  </thead>\n",
       "  <tbody>\n",
       "    <tr>\n",
       "      <th>count</th>\n",
       "      <td>118</td>\n",
       "      <td>118</td>\n",
       "      <td>118</td>\n",
       "      <td>118</td>\n",
       "      <td>118</td>\n",
       "    </tr>\n",
       "    <tr>\n",
       "      <th>unique</th>\n",
       "      <td>115</td>\n",
       "      <td>79</td>\n",
       "      <td>65</td>\n",
       "      <td>13</td>\n",
       "      <td>30</td>\n",
       "    </tr>\n",
       "    <tr>\n",
       "      <th>top</th>\n",
       "      <td>La Pino'z Pizza</td>\n",
       "      <td>North Indian</td>\n",
       "      <td>BTM, BTM</td>\n",
       "      <td>4.1</td>\n",
       "      <td>₹ 300</td>\n",
       "    </tr>\n",
       "    <tr>\n",
       "      <th>freq</th>\n",
       "      <td>2</td>\n",
       "      <td>12</td>\n",
       "      <td>13</td>\n",
       "      <td>30</td>\n",
       "      <td>16</td>\n",
       "    </tr>\n",
       "  </tbody>\n",
       "</table>\n",
       "</div>"
      ],
      "text/plain": [
       "              Shop_Name       Cuisine  Location Rating Cost_for_Two\n",
       "count               118           118       118    118          118\n",
       "unique              115            79        65     13           30\n",
       "top     La Pino'z Pizza  North Indian  BTM, BTM    4.1        ₹ 300\n",
       "freq                  2            12        13     30           16"
      ]
     },
     "execution_count": 5,
     "metadata": {},
     "output_type": "execute_result"
    }
   ],
   "source": [
    "swiggy_data.describe()"
   ]
  },
  {
   "cell_type": "code",
   "execution_count": 6,
   "metadata": {
    "colab": {
     "base_uri": "https://localhost:8080/"
    },
    "executionInfo": {
     "elapsed": 82,
     "status": "ok",
     "timestamp": 1630305091037,
     "user": {
      "displayName": "charu chaudhary",
      "photoUrl": "",
      "userId": "15964787324055720300"
     },
     "user_tz": -330
    },
    "id": "oZXbj-CItrtD",
    "outputId": "814429ae-a28e-4a21-9ba8-4983c644e07f"
   },
   "outputs": [
    {
     "name": "stdout",
     "output_type": "stream",
     "text": [
      "<class 'pandas.core.frame.DataFrame'>\n",
      "RangeIndex: 118 entries, 0 to 117\n",
      "Data columns (total 5 columns):\n",
      " #   Column        Non-Null Count  Dtype \n",
      "---  ------        --------------  ----- \n",
      " 0   Shop_Name     118 non-null    object\n",
      " 1   Cuisine       118 non-null    object\n",
      " 2   Location      118 non-null    object\n",
      " 3   Rating        118 non-null    object\n",
      " 4   Cost_for_Two  118 non-null    object\n",
      "dtypes: object(5)\n",
      "memory usage: 4.7+ KB\n"
     ]
    }
   ],
   "source": [
    "swiggy_data.info()"
   ]
  },
  {
   "cell_type": "code",
   "execution_count": 7,
   "metadata": {
    "colab": {
     "base_uri": "https://localhost:8080/"
    },
    "executionInfo": {
     "elapsed": 84,
     "status": "ok",
     "timestamp": 1630305091047,
     "user": {
      "displayName": "charu chaudhary",
      "photoUrl": "",
      "userId": "15964787324055720300"
     },
     "user_tz": -330
    },
    "id": "ZM84Sjpzu0jp",
    "outputId": "66ac15b7-4d97-451c-e7e9-169d6b9d10d6"
   },
   "outputs": [
    {
     "data": {
      "text/plain": [
       "Index(['Shop_Name', 'Cuisine', 'Location', 'Rating', 'Cost_for_Two'], dtype='object')"
      ]
     },
     "execution_count": 7,
     "metadata": {},
     "output_type": "execute_result"
    }
   ],
   "source": [
    "swiggy_data.columns"
   ]
  },
  {
   "cell_type": "code",
   "execution_count": 8,
   "metadata": {
    "executionInfo": {
     "elapsed": 83,
     "status": "ok",
     "timestamp": 1630305091051,
     "user": {
      "displayName": "charu chaudhary",
      "photoUrl": "",
      "userId": "15964787324055720300"
     },
     "user_tz": -330
    },
    "id": "BCf3uXUevQni"
   },
   "outputs": [
    {
     "name": "stderr",
     "output_type": "stream",
     "text": [
      "C:\\Users\\nehac\\AppData\\Local\\Temp\\ipykernel_1420\\6710242.py:1: FutureWarning: The default value of regex will change from True to False in a future version.\n",
      "  swiggy_data['Rating']=swiggy_data['Rating'].str.replace(r'\\--','0').astype(float)\n"
     ]
    }
   ],
   "source": [
    "swiggy_data['Rating']=swiggy_data['Rating'].str.replace(r'\\--','0').astype(float)"
   ]
  },
  {
   "cell_type": "code",
   "execution_count": 9,
   "metadata": {
    "colab": {
     "base_uri": "https://localhost:8080/"
    },
    "executionInfo": {
     "elapsed": 87,
     "status": "ok",
     "timestamp": 1630305091056,
     "user": {
      "displayName": "charu chaudhary",
      "photoUrl": "",
      "userId": "15964787324055720300"
     },
     "user_tz": -330
    },
    "id": "O4CfgdlRwxOk",
    "outputId": "fb98ab26-22b5-44fa-e6ff-1e3a539295d0"
   },
   "outputs": [
    {
     "data": {
      "text/plain": [
       "98     0.0\n",
       "99     4.1\n",
       "100    4.1\n",
       "101    3.8\n",
       "102    3.9\n",
       "103    3.6\n",
       "104    3.7\n",
       "105    4.0\n",
       "106    4.0\n",
       "107    4.0\n",
       "108    4.3\n",
       "109    4.0\n",
       "110    4.0\n",
       "111    4.4\n",
       "112    3.9\n",
       "113    3.9\n",
       "114    4.1\n",
       "115    4.2\n",
       "116    4.3\n",
       "117    4.2\n",
       "Name: Rating, dtype: float64"
      ]
     },
     "execution_count": 9,
     "metadata": {},
     "output_type": "execute_result"
    }
   ],
   "source": [
    "swiggy_data['Rating'].tail(20)"
   ]
  },
  {
   "cell_type": "code",
   "execution_count": 10,
   "metadata": {
    "colab": {
     "base_uri": "https://localhost:8080/"
    },
    "executionInfo": {
     "elapsed": 80,
     "status": "ok",
     "timestamp": 1630305091058,
     "user": {
      "displayName": "charu chaudhary",
      "photoUrl": "",
      "userId": "15964787324055720300"
     },
     "user_tz": -330
    },
    "id": "Aqvv-ZNDxa_K",
    "outputId": "b144ba93-bdc0-4b65-87f1-0b5be550f56f"
   },
   "outputs": [
    {
     "data": {
      "text/plain": [
       "Shop_Name        object\n",
       "Cuisine          object\n",
       "Location         object\n",
       "Rating          float64\n",
       "Cost_for_Two     object\n",
       "dtype: object"
      ]
     },
     "execution_count": 10,
     "metadata": {},
     "output_type": "execute_result"
    }
   ],
   "source": [
    "swiggy_data.dtypes"
   ]
  },
  {
   "cell_type": "code",
   "execution_count": 11,
   "metadata": {
    "executionInfo": {
     "elapsed": 78,
     "status": "ok",
     "timestamp": 1630305091061,
     "user": {
      "displayName": "charu chaudhary",
      "photoUrl": "",
      "userId": "15964787324055720300"
     },
     "user_tz": -330
    },
    "id": "WVTu2VBB5xqF"
   },
   "outputs": [],
   "source": [
    "rating_with_0= (swiggy_data['Rating']==0).sum()"
   ]
  },
  {
   "cell_type": "code",
   "execution_count": 12,
   "metadata": {
    "colab": {
     "base_uri": "https://localhost:8080/"
    },
    "executionInfo": {
     "elapsed": 76,
     "status": "ok",
     "timestamp": 1630305091063,
     "user": {
      "displayName": "charu chaudhary",
      "photoUrl": "",
      "userId": "15964787324055720300"
     },
     "user_tz": -330
    },
    "id": "RFQ2W1XY50Jf",
    "outputId": "670cfc62-a255-4877-8495-a8dd5dbd3a3a"
   },
   "outputs": [
    {
     "data": {
      "text/plain": [
       "1"
      ]
     },
     "execution_count": 12,
     "metadata": {},
     "output_type": "execute_result"
    }
   ],
   "source": [
    "rating_with_0"
   ]
  },
  {
   "cell_type": "code",
   "execution_count": 13,
   "metadata": {
    "executionInfo": {
     "elapsed": 71,
     "status": "ok",
     "timestamp": 1630305091065,
     "user": {
      "displayName": "charu chaudhary",
      "photoUrl": "",
      "userId": "15964787324055720300"
     },
     "user_tz": -330
    },
    "id": "ooWifVdIJkSc"
   },
   "outputs": [],
   "source": [
    "def clean_currency(x):\n",
    "    \"\"\" If the value is a string, then remove currency symbol and delimiters\n",
    "    otherwise, the value is numeric and can be converted\n",
    "    \"\"\"\n",
    "    if isinstance(x, str):\n",
    "        return(x.replace('₹', '').replace(',', ''))\n",
    "    return(x)"
   ]
  },
  {
   "cell_type": "code",
   "execution_count": 14,
   "metadata": {
    "executionInfo": {
     "elapsed": 71,
     "status": "ok",
     "timestamp": 1630305091066,
     "user": {
      "displayName": "charu chaudhary",
      "photoUrl": "",
      "userId": "15964787324055720300"
     },
     "user_tz": -330
    },
    "id": "Gx-HEzIPKCJp"
   },
   "outputs": [],
   "source": [
    "swiggy_data['Cost_for_Two'] = swiggy_data['Cost_for_Two'].apply(clean_currency).astype('float')"
   ]
  },
  {
   "cell_type": "code",
   "execution_count": 15,
   "metadata": {
    "colab": {
     "base_uri": "https://localhost:8080/"
    },
    "executionInfo": {
     "elapsed": 72,
     "status": "ok",
     "timestamp": 1630305091068,
     "user": {
      "displayName": "charu chaudhary",
      "photoUrl": "",
      "userId": "15964787324055720300"
     },
     "user_tz": -330
    },
    "id": "WW13eqMsNPdh",
    "outputId": "36464657-ea04-49eb-e186-6da4521d1e7b"
   },
   "outputs": [
    {
     "data": {
      "text/plain": [
       "Shop_Name        object\n",
       "Cuisine          object\n",
       "Location         object\n",
       "Rating          float64\n",
       "Cost_for_Two    float64\n",
       "dtype: object"
      ]
     },
     "execution_count": 15,
     "metadata": {},
     "output_type": "execute_result"
    }
   ],
   "source": [
    "swiggy_data.dtypes"
   ]
  },
  {
   "cell_type": "code",
   "execution_count": 16,
   "metadata": {
    "executionInfo": {
     "elapsed": 584,
     "status": "ok",
     "timestamp": 1630305091586,
     "user": {
      "displayName": "charu chaudhary",
      "photoUrl": "",
      "userId": "15964787324055720300"
     },
     "user_tz": -330
    },
    "id": "5TAhsBVlNWGZ"
   },
   "outputs": [],
   "source": [
    "swiggy_data.rename(columns={'Cost_for_Two':'Cost_for_Two (₹)'},inplace=True)"
   ]
  },
  {
   "cell_type": "code",
   "execution_count": 17,
   "metadata": {
    "colab": {
     "base_uri": "https://localhost:8080/",
     "height": 414
    },
    "executionInfo": {
     "elapsed": 91,
     "status": "ok",
     "timestamp": 1630305091591,
     "user": {
      "displayName": "charu chaudhary",
      "photoUrl": "",
      "userId": "15964787324055720300"
     },
     "user_tz": -330
    },
    "id": "dQA-g9nIOp1r",
    "outputId": "f0863149-4f70-4f2f-cc53-bdfecdfa74c5"
   },
   "outputs": [
    {
     "data": {
      "text/html": [
       "<div>\n",
       "<style scoped>\n",
       "    .dataframe tbody tr th:only-of-type {\n",
       "        vertical-align: middle;\n",
       "    }\n",
       "\n",
       "    .dataframe tbody tr th {\n",
       "        vertical-align: top;\n",
       "    }\n",
       "\n",
       "    .dataframe thead th {\n",
       "        text-align: right;\n",
       "    }\n",
       "</style>\n",
       "<table border=\"1\" class=\"dataframe\">\n",
       "  <thead>\n",
       "    <tr style=\"text-align: right;\">\n",
       "      <th></th>\n",
       "      <th>Shop_Name</th>\n",
       "      <th>Cuisine</th>\n",
       "      <th>Location</th>\n",
       "      <th>Rating</th>\n",
       "      <th>Cost_for_Two (₹)</th>\n",
       "    </tr>\n",
       "  </thead>\n",
       "  <tbody>\n",
       "    <tr>\n",
       "      <th>0</th>\n",
       "      <td>Kanti Sweets</td>\n",
       "      <td>Sweets</td>\n",
       "      <td>Koramangala, Koramangala</td>\n",
       "      <td>4.3</td>\n",
       "      <td>150.0</td>\n",
       "    </tr>\n",
       "    <tr>\n",
       "      <th>1</th>\n",
       "      <td>Mumbai Tiffin</td>\n",
       "      <td>North Indian, Home Food, Thalis, Combo</td>\n",
       "      <td>Sector 5, HSR</td>\n",
       "      <td>4.4</td>\n",
       "      <td>400.0</td>\n",
       "    </tr>\n",
       "    <tr>\n",
       "      <th>2</th>\n",
       "      <td>Sri Krishna sagar</td>\n",
       "      <td>South Indian, North Indian, Fast Food, Beverag...</td>\n",
       "      <td>6th Block, Koramangala</td>\n",
       "      <td>4.1</td>\n",
       "      <td>126.0</td>\n",
       "    </tr>\n",
       "    <tr>\n",
       "      <th>3</th>\n",
       "      <td>Al Daaz</td>\n",
       "      <td>American, Arabian, Chinese, Desserts, Fast Foo...</td>\n",
       "      <td>HSR, HSR</td>\n",
       "      <td>4.4</td>\n",
       "      <td>400.0</td>\n",
       "    </tr>\n",
       "    <tr>\n",
       "      <th>4</th>\n",
       "      <td>Beijing Bites</td>\n",
       "      <td>Chinese, Thai</td>\n",
       "      <td>5th Block, Koramangala</td>\n",
       "      <td>4.1</td>\n",
       "      <td>450.0</td>\n",
       "    </tr>\n",
       "    <tr>\n",
       "      <th>...</th>\n",
       "      <td>...</td>\n",
       "      <td>...</td>\n",
       "      <td>...</td>\n",
       "      <td>...</td>\n",
       "      <td>...</td>\n",
       "    </tr>\n",
       "    <tr>\n",
       "      <th>113</th>\n",
       "      <td>Wok Paper Scissors</td>\n",
       "      <td>Pan-Asian, Chinese, Asian</td>\n",
       "      <td>JNC Road, Koramangala</td>\n",
       "      <td>3.9</td>\n",
       "      <td>219.0</td>\n",
       "    </tr>\n",
       "    <tr>\n",
       "      <th>114</th>\n",
       "      <td>Savoury Restaurant</td>\n",
       "      <td>Arabian, Middle Eastern, North Indian, Grill, ...</td>\n",
       "      <td>Madiwala, BTM</td>\n",
       "      <td>4.1</td>\n",
       "      <td>600.0</td>\n",
       "    </tr>\n",
       "    <tr>\n",
       "      <th>115</th>\n",
       "      <td>Royal Treat</td>\n",
       "      <td>North Indian, Chinese, Seafood, Biryani</td>\n",
       "      <td>5th block Koramangala, Koramangala</td>\n",
       "      <td>4.2</td>\n",
       "      <td>193.0</td>\n",
       "    </tr>\n",
       "    <tr>\n",
       "      <th>116</th>\n",
       "      <td>Thali 99</td>\n",
       "      <td>North Indian</td>\n",
       "      <td>Koramangala, Koramangala</td>\n",
       "      <td>4.3</td>\n",
       "      <td>200.0</td>\n",
       "    </tr>\n",
       "    <tr>\n",
       "      <th>117</th>\n",
       "      <td>Mani's Dum Biryani</td>\n",
       "      <td>Andhra, Biryani</td>\n",
       "      <td>1st Block, Koramangala</td>\n",
       "      <td>4.2</td>\n",
       "      <td>400.0</td>\n",
       "    </tr>\n",
       "  </tbody>\n",
       "</table>\n",
       "<p>118 rows × 5 columns</p>\n",
       "</div>"
      ],
      "text/plain": [
       "              Shop_Name                                            Cuisine  \\\n",
       "0          Kanti Sweets                                             Sweets   \n",
       "1         Mumbai Tiffin             North Indian, Home Food, Thalis, Combo   \n",
       "2     Sri Krishna sagar  South Indian, North Indian, Fast Food, Beverag...   \n",
       "3               Al Daaz  American, Arabian, Chinese, Desserts, Fast Foo...   \n",
       "4         Beijing Bites                                      Chinese, Thai   \n",
       "..                  ...                                                ...   \n",
       "113  Wok Paper Scissors                          Pan-Asian, Chinese, Asian   \n",
       "114  Savoury Restaurant  Arabian, Middle Eastern, North Indian, Grill, ...   \n",
       "115         Royal Treat            North Indian, Chinese, Seafood, Biryani   \n",
       "116            Thali 99                                       North Indian   \n",
       "117  Mani's Dum Biryani                                    Andhra, Biryani   \n",
       "\n",
       "                               Location  Rating  Cost_for_Two (₹)  \n",
       "0              Koramangala, Koramangala     4.3             150.0  \n",
       "1                         Sector 5, HSR     4.4             400.0  \n",
       "2                6th Block, Koramangala     4.1             126.0  \n",
       "3                              HSR, HSR     4.4             400.0  \n",
       "4                5th Block, Koramangala     4.1             450.0  \n",
       "..                                  ...     ...               ...  \n",
       "113               JNC Road, Koramangala     3.9             219.0  \n",
       "114                       Madiwala, BTM     4.1             600.0  \n",
       "115  5th block Koramangala, Koramangala     4.2             193.0  \n",
       "116            Koramangala, Koramangala     4.3             200.0  \n",
       "117              1st Block, Koramangala     4.2             400.0  \n",
       "\n",
       "[118 rows x 5 columns]"
      ]
     },
     "execution_count": 17,
     "metadata": {},
     "output_type": "execute_result"
    }
   ],
   "source": [
    "swiggy_data"
   ]
  },
  {
   "cell_type": "code",
   "execution_count": 18,
   "metadata": {
    "colab": {
     "base_uri": "https://localhost:8080/"
    },
    "executionInfo": {
     "elapsed": 93,
     "status": "ok",
     "timestamp": 1630305091595,
     "user": {
      "displayName": "charu chaudhary",
      "photoUrl": "",
      "userId": "15964787324055720300"
     },
     "user_tz": -330
    },
    "id": "qjiGN6YxO5-v",
    "outputId": "5bb177bc-1758-445d-b844-696af0a92914"
   },
   "outputs": [
    {
     "name": "stdout",
     "output_type": "stream",
     "text": [
      "<class 'pandas.core.frame.DataFrame'>\n",
      "RangeIndex: 118 entries, 0 to 117\n",
      "Data columns (total 5 columns):\n",
      " #   Column            Non-Null Count  Dtype  \n",
      "---  ------            --------------  -----  \n",
      " 0   Shop_Name         118 non-null    object \n",
      " 1   Cuisine           118 non-null    object \n",
      " 2   Location          118 non-null    object \n",
      " 3   Rating            118 non-null    float64\n",
      " 4   Cost_for_Two (₹)  118 non-null    float64\n",
      "dtypes: float64(2), object(3)\n",
      "memory usage: 4.7+ KB\n"
     ]
    }
   ],
   "source": [
    "swiggy_data.info()"
   ]
  },
  {
   "cell_type": "code",
   "execution_count": 19,
   "metadata": {
    "colab": {
     "base_uri": "https://localhost:8080/",
     "height": 294
    },
    "executionInfo": {
     "elapsed": 88,
     "status": "ok",
     "timestamp": 1630305091597,
     "user": {
      "displayName": "charu chaudhary",
      "photoUrl": "",
      "userId": "15964787324055720300"
     },
     "user_tz": -330
    },
    "id": "b9XR1SjvPY7K",
    "outputId": "662f88b7-3ce9-4a4f-bd78-8db57e5be2fb"
   },
   "outputs": [
    {
     "data": {
      "text/html": [
       "<div>\n",
       "<style scoped>\n",
       "    .dataframe tbody tr th:only-of-type {\n",
       "        vertical-align: middle;\n",
       "    }\n",
       "\n",
       "    .dataframe tbody tr th {\n",
       "        vertical-align: top;\n",
       "    }\n",
       "\n",
       "    .dataframe thead th {\n",
       "        text-align: right;\n",
       "    }\n",
       "</style>\n",
       "<table border=\"1\" class=\"dataframe\">\n",
       "  <thead>\n",
       "    <tr style=\"text-align: right;\">\n",
       "      <th></th>\n",
       "      <th>Rating</th>\n",
       "      <th>Cost_for_Two (₹)</th>\n",
       "    </tr>\n",
       "  </thead>\n",
       "  <tbody>\n",
       "    <tr>\n",
       "      <th>count</th>\n",
       "      <td>118.000000</td>\n",
       "      <td>118.000000</td>\n",
       "    </tr>\n",
       "    <tr>\n",
       "      <th>mean</th>\n",
       "      <td>4.061864</td>\n",
       "      <td>321.008475</td>\n",
       "    </tr>\n",
       "    <tr>\n",
       "      <th>std</th>\n",
       "      <td>0.430845</td>\n",
       "      <td>137.286804</td>\n",
       "    </tr>\n",
       "    <tr>\n",
       "      <th>min</th>\n",
       "      <td>0.000000</td>\n",
       "      <td>100.000000</td>\n",
       "    </tr>\n",
       "    <tr>\n",
       "      <th>25%</th>\n",
       "      <td>4.000000</td>\n",
       "      <td>204.750000</td>\n",
       "    </tr>\n",
       "    <tr>\n",
       "      <th>50%</th>\n",
       "      <td>4.100000</td>\n",
       "      <td>300.000000</td>\n",
       "    </tr>\n",
       "    <tr>\n",
       "      <th>75%</th>\n",
       "      <td>4.300000</td>\n",
       "      <td>400.000000</td>\n",
       "    </tr>\n",
       "    <tr>\n",
       "      <th>max</th>\n",
       "      <td>4.800000</td>\n",
       "      <td>800.000000</td>\n",
       "    </tr>\n",
       "  </tbody>\n",
       "</table>\n",
       "</div>"
      ],
      "text/plain": [
       "           Rating  Cost_for_Two (₹)\n",
       "count  118.000000        118.000000\n",
       "mean     4.061864        321.008475\n",
       "std      0.430845        137.286804\n",
       "min      0.000000        100.000000\n",
       "25%      4.000000        204.750000\n",
       "50%      4.100000        300.000000\n",
       "75%      4.300000        400.000000\n",
       "max      4.800000        800.000000"
      ]
     },
     "execution_count": 19,
     "metadata": {},
     "output_type": "execute_result"
    }
   ],
   "source": [
    "swiggy_data.describe()"
   ]
  },
  {
   "cell_type": "code",
   "execution_count": 20,
   "metadata": {
    "executionInfo": {
     "elapsed": 87,
     "status": "ok",
     "timestamp": 1630305091598,
     "user": {
      "displayName": "charu chaudhary",
      "photoUrl": "",
      "userId": "15964787324055720300"
     },
     "user_tz": -330
    },
    "id": "iipyKlwyPoz_"
   },
   "outputs": [],
   "source": [
    "rating_grouped= swiggy_data['Shop_Name'].groupby(swiggy_data['Rating']).count()"
   ]
  },
  {
   "cell_type": "code",
   "execution_count": 21,
   "metadata": {
    "colab": {
     "base_uri": "https://localhost:8080/"
    },
    "executionInfo": {
     "elapsed": 88,
     "status": "ok",
     "timestamp": 1630305091600,
     "user": {
      "displayName": "charu chaudhary",
      "photoUrl": "",
      "userId": "15964787324055720300"
     },
     "user_tz": -330
    },
    "id": "JH3eWYiyQOXG",
    "outputId": "18ccc58a-e19f-450f-e5f0-efb6eda90440"
   },
   "outputs": [
    {
     "data": {
      "text/plain": [
       "Rating\n",
       "0.0     1\n",
       "3.6     2\n",
       "3.7     6\n",
       "3.8     4\n",
       "3.9    13\n",
       "4.0    21\n",
       "4.1    30\n",
       "4.2    10\n",
       "4.3    23\n",
       "4.4     4\n",
       "4.5     1\n",
       "4.6     2\n",
       "4.8     1\n",
       "Name: Shop_Name, dtype: int64"
      ]
     },
     "execution_count": 21,
     "metadata": {},
     "output_type": "execute_result"
    }
   ],
   "source": [
    "rating_grouped"
   ]
  },
  {
   "cell_type": "code",
   "execution_count": 22,
   "metadata": {
    "colab": {
     "base_uri": "https://localhost:8080/"
    },
    "executionInfo": {
     "elapsed": 84,
     "status": "ok",
     "timestamp": 1630305091601,
     "user": {
      "displayName": "charu chaudhary",
      "photoUrl": "",
      "userId": "15964787324055720300"
     },
     "user_tz": -330
    },
    "id": "c0zZLcT1YgHm",
    "outputId": "c0a750ab-62cd-423e-9fd0-7229b2c7bb9d"
   },
   "outputs": [
    {
     "data": {
      "text/plain": [
       "array(['Koramangala, Koramangala', 'Sector 5, HSR',\n",
       "       '6th Block, Koramangala', 'HSR, HSR', '5th Block, Koramangala',\n",
       "       'Koramangala 4th  Block, Koramangala', 'BTM 2nd Stage, BTM',\n",
       "       'BTM, BTM', '9th Main road, Koramangala', 'outer ring road, BTM',\n",
       "       '7th Block, Koramangala', '1st MAin, Koramangala',\n",
       "       'Bommanahalli, BTM', '6th block, Koramangala', 'Sector 4, HSR',\n",
       "       'BTM 1st stage, BTM', 'Jakkasandra Extn, Koramangala',\n",
       "       'Marutinagar Main Road, BTM', '1st Block, Koramangala',\n",
       "       '4th Cross, BTM', 'koramangala, Koramangala', 'BTM 2nd stage, BTM',\n",
       "       '3rd main, BTM', 'HSR 1st sector, HSR', 'Sector 7, HSR',\n",
       "       '3rd Sector, HSR', 'Chocolate Factory Road, BTM',\n",
       "       '16th Main Road, 2nd Stage, BTM', '1st Stage, BTM',\n",
       "       'Hosur Main Road, Koramangala',\n",
       "       '1st Cross Road, 5th Block, Near Jyothi Nivas College, Koramangala',\n",
       "       'Mico Layout, BTM', '4th Cross, Koramangala',\n",
       "       '4th Block, Koramangala', 'Intermediate Ring Road, Koramangala',\n",
       "       '3rd sector, HSR', '8TH BLOCK, Koramangala',\n",
       "       '4th b cross, Koramangala', 'SG palaya, BTM',\n",
       "       \"Venkatapura Main Rd, Teacher's Colony, Jakkasandra, HSR\",\n",
       "       'KHB Colony, Koramangala', 'Sector 3, HSR',\n",
       "       'Bannerghatta Road, Jayanagar',\n",
       "       '80 Feet Peripheral Road, Koramangala', 'Btm, BTM',\n",
       "       'Near Wipro Park Signal, Koramangala', '16th Main Road, BTM',\n",
       "       '2nd Stage, BTM', 'Kuvempu Nagar, Stage 2, BTM',\n",
       "       'Koramangala 1st block, Koramangala',\n",
       "       '5th Block Kormangala, Koramangala', 'Koramangla, Koramangala',\n",
       "       '5th block, Koramangala', '9th Main Rd, Sector 6, HSR Layout, HSR',\n",
       "       'Jay Bheema Nagar, BTM', 'Koramangala 6th block, Koramangala',\n",
       "       'Maruthi Nagar, BTM', 'Sector 6, HSR',\n",
       "       'Jakkasandra Village, Koramangala', '4th block, Koramangala',\n",
       "       'Madiwala Junction, BTM', 'kormangala, Koramangala',\n",
       "       'JNC Road, Koramangala', 'Madiwala, BTM',\n",
       "       '5th block Koramangala, Koramangala'], dtype=object)"
      ]
     },
     "execution_count": 22,
     "metadata": {},
     "output_type": "execute_result"
    }
   ],
   "source": [
    "swiggy_data['Location'].unique()"
   ]
  },
  {
   "cell_type": "code",
   "execution_count": 23,
   "metadata": {
    "colab": {
     "base_uri": "https://localhost:8080/"
    },
    "executionInfo": {
     "elapsed": 79,
     "status": "ok",
     "timestamp": 1630305091603,
     "user": {
      "displayName": "charu chaudhary",
      "photoUrl": "",
      "userId": "15964787324055720300"
     },
     "user_tz": -330
    },
    "id": "ErPWUgsi2XLK",
    "outputId": "475eb605-2f27-4b37-d7d0-22bc84533868"
   },
   "outputs": [
    {
     "data": {
      "text/plain": [
       "65"
      ]
     },
     "execution_count": 23,
     "metadata": {},
     "output_type": "execute_result"
    }
   ],
   "source": [
    "swiggy_data['Location'].nunique()"
   ]
  },
  {
   "cell_type": "code",
   "execution_count": 24,
   "metadata": {
    "executionInfo": {
     "elapsed": 72,
     "status": "ok",
     "timestamp": 1630305091604,
     "user": {
      "displayName": "charu chaudhary",
      "photoUrl": "",
      "userId": "15964787324055720300"
     },
     "user_tz": -330
    },
    "id": "xxuE4btv3KZm"
   },
   "outputs": [],
   "source": [
    "swiggy_Koramangala=swiggy_data[swiggy_data['Location'].str.contains(r'Koramangala')]"
   ]
  },
  {
   "cell_type": "code",
   "execution_count": 25,
   "metadata": {
    "colab": {
     "base_uri": "https://localhost:8080/",
     "height": 414
    },
    "executionInfo": {
     "elapsed": 73,
     "status": "ok",
     "timestamp": 1630305091606,
     "user": {
      "displayName": "charu chaudhary",
      "photoUrl": "",
      "userId": "15964787324055720300"
     },
     "user_tz": -330
    },
    "id": "1jNgbbLv6VTg",
    "outputId": "beb56d5d-eb76-4877-c8f6-26bc8de3c91c"
   },
   "outputs": [
    {
     "data": {
      "text/html": [
       "<div>\n",
       "<style scoped>\n",
       "    .dataframe tbody tr th:only-of-type {\n",
       "        vertical-align: middle;\n",
       "    }\n",
       "\n",
       "    .dataframe tbody tr th {\n",
       "        vertical-align: top;\n",
       "    }\n",
       "\n",
       "    .dataframe thead th {\n",
       "        text-align: right;\n",
       "    }\n",
       "</style>\n",
       "<table border=\"1\" class=\"dataframe\">\n",
       "  <thead>\n",
       "    <tr style=\"text-align: right;\">\n",
       "      <th></th>\n",
       "      <th>Shop_Name</th>\n",
       "      <th>Cuisine</th>\n",
       "      <th>Location</th>\n",
       "      <th>Rating</th>\n",
       "      <th>Cost_for_Two (₹)</th>\n",
       "    </tr>\n",
       "  </thead>\n",
       "  <tbody>\n",
       "    <tr>\n",
       "      <th>0</th>\n",
       "      <td>Kanti Sweets</td>\n",
       "      <td>Sweets</td>\n",
       "      <td>Koramangala, Koramangala</td>\n",
       "      <td>4.3</td>\n",
       "      <td>150.0</td>\n",
       "    </tr>\n",
       "    <tr>\n",
       "      <th>2</th>\n",
       "      <td>Sri Krishna sagar</td>\n",
       "      <td>South Indian, North Indian, Fast Food, Beverag...</td>\n",
       "      <td>6th Block, Koramangala</td>\n",
       "      <td>4.1</td>\n",
       "      <td>126.0</td>\n",
       "    </tr>\n",
       "    <tr>\n",
       "      <th>4</th>\n",
       "      <td>Beijing Bites</td>\n",
       "      <td>Chinese, Thai</td>\n",
       "      <td>5th Block, Koramangala</td>\n",
       "      <td>4.1</td>\n",
       "      <td>450.0</td>\n",
       "    </tr>\n",
       "    <tr>\n",
       "      <th>5</th>\n",
       "      <td>Kitchens of Punjab</td>\n",
       "      <td>North Indian</td>\n",
       "      <td>Koramangala 4th  Block, Koramangala</td>\n",
       "      <td>4.2</td>\n",
       "      <td>350.0</td>\n",
       "    </tr>\n",
       "    <tr>\n",
       "      <th>9</th>\n",
       "      <td>Yumlane Pizza</td>\n",
       "      <td>Pizzas, Italian, Mexican</td>\n",
       "      <td>9th Main road, Koramangala</td>\n",
       "      <td>3.8</td>\n",
       "      <td>150.0</td>\n",
       "    </tr>\n",
       "    <tr>\n",
       "      <th>...</th>\n",
       "      <td>...</td>\n",
       "      <td>...</td>\n",
       "      <td>...</td>\n",
       "      <td>...</td>\n",
       "      <td>...</td>\n",
       "    </tr>\n",
       "    <tr>\n",
       "      <th>112</th>\n",
       "      <td>Kritunga</td>\n",
       "      <td>Andhra, Biryani</td>\n",
       "      <td>5th Block, Koramangala</td>\n",
       "      <td>3.9</td>\n",
       "      <td>500.0</td>\n",
       "    </tr>\n",
       "    <tr>\n",
       "      <th>113</th>\n",
       "      <td>Wok Paper Scissors</td>\n",
       "      <td>Pan-Asian, Chinese, Asian</td>\n",
       "      <td>JNC Road, Koramangala</td>\n",
       "      <td>3.9</td>\n",
       "      <td>219.0</td>\n",
       "    </tr>\n",
       "    <tr>\n",
       "      <th>115</th>\n",
       "      <td>Royal Treat</td>\n",
       "      <td>North Indian, Chinese, Seafood, Biryani</td>\n",
       "      <td>5th block Koramangala, Koramangala</td>\n",
       "      <td>4.2</td>\n",
       "      <td>193.0</td>\n",
       "    </tr>\n",
       "    <tr>\n",
       "      <th>116</th>\n",
       "      <td>Thali 99</td>\n",
       "      <td>North Indian</td>\n",
       "      <td>Koramangala, Koramangala</td>\n",
       "      <td>4.3</td>\n",
       "      <td>200.0</td>\n",
       "    </tr>\n",
       "    <tr>\n",
       "      <th>117</th>\n",
       "      <td>Mani's Dum Biryani</td>\n",
       "      <td>Andhra, Biryani</td>\n",
       "      <td>1st Block, Koramangala</td>\n",
       "      <td>4.2</td>\n",
       "      <td>400.0</td>\n",
       "    </tr>\n",
       "  </tbody>\n",
       "</table>\n",
       "<p>64 rows × 5 columns</p>\n",
       "</div>"
      ],
      "text/plain": [
       "              Shop_Name                                            Cuisine  \\\n",
       "0          Kanti Sweets                                             Sweets   \n",
       "2     Sri Krishna sagar  South Indian, North Indian, Fast Food, Beverag...   \n",
       "4         Beijing Bites                                      Chinese, Thai   \n",
       "5    Kitchens of Punjab                                       North Indian   \n",
       "9         Yumlane Pizza                           Pizzas, Italian, Mexican   \n",
       "..                  ...                                                ...   \n",
       "112            Kritunga                                    Andhra, Biryani   \n",
       "113  Wok Paper Scissors                          Pan-Asian, Chinese, Asian   \n",
       "115         Royal Treat            North Indian, Chinese, Seafood, Biryani   \n",
       "116            Thali 99                                       North Indian   \n",
       "117  Mani's Dum Biryani                                    Andhra, Biryani   \n",
       "\n",
       "                                Location  Rating  Cost_for_Two (₹)  \n",
       "0               Koramangala, Koramangala     4.3             150.0  \n",
       "2                 6th Block, Koramangala     4.1             126.0  \n",
       "4                 5th Block, Koramangala     4.1             450.0  \n",
       "5    Koramangala 4th  Block, Koramangala     4.2             350.0  \n",
       "9             9th Main road, Koramangala     3.8             150.0  \n",
       "..                                   ...     ...               ...  \n",
       "112               5th Block, Koramangala     3.9             500.0  \n",
       "113                JNC Road, Koramangala     3.9             219.0  \n",
       "115   5th block Koramangala, Koramangala     4.2             193.0  \n",
       "116             Koramangala, Koramangala     4.3             200.0  \n",
       "117               1st Block, Koramangala     4.2             400.0  \n",
       "\n",
       "[64 rows x 5 columns]"
      ]
     },
     "execution_count": 25,
     "metadata": {},
     "output_type": "execute_result"
    }
   ],
   "source": [
    "swiggy_Koramangala"
   ]
  },
  {
   "cell_type": "code",
   "execution_count": 26,
   "metadata": {
    "executionInfo": {
     "elapsed": 73,
     "status": "ok",
     "timestamp": 1630305091607,
     "user": {
      "displayName": "charu chaudhary",
      "photoUrl": "",
      "userId": "15964787324055720300"
     },
     "user_tz": -330
    },
    "id": "lvkNVvhk6sVJ"
   },
   "outputs": [],
   "source": [
    "swiggy_Hsr=swiggy_data[swiggy_data['Location'].str.contains(r'HSR')]"
   ]
  },
  {
   "cell_type": "code",
   "execution_count": 27,
   "metadata": {
    "colab": {
     "base_uri": "https://localhost:8080/",
     "height": 601
    },
    "executionInfo": {
     "elapsed": 75,
     "status": "ok",
     "timestamp": 1630305091610,
     "user": {
      "displayName": "charu chaudhary",
      "photoUrl": "",
      "userId": "15964787324055720300"
     },
     "user_tz": -330
    },
    "id": "PFeu_48076Fu",
    "outputId": "9c1f8d73-176a-4b31-b20c-e1a47f8d7e3e"
   },
   "outputs": [
    {
     "data": {
      "text/html": [
       "<div>\n",
       "<style scoped>\n",
       "    .dataframe tbody tr th:only-of-type {\n",
       "        vertical-align: middle;\n",
       "    }\n",
       "\n",
       "    .dataframe tbody tr th {\n",
       "        vertical-align: top;\n",
       "    }\n",
       "\n",
       "    .dataframe thead th {\n",
       "        text-align: right;\n",
       "    }\n",
       "</style>\n",
       "<table border=\"1\" class=\"dataframe\">\n",
       "  <thead>\n",
       "    <tr style=\"text-align: right;\">\n",
       "      <th></th>\n",
       "      <th>Shop_Name</th>\n",
       "      <th>Cuisine</th>\n",
       "      <th>Location</th>\n",
       "      <th>Rating</th>\n",
       "      <th>Cost_for_Two (₹)</th>\n",
       "    </tr>\n",
       "  </thead>\n",
       "  <tbody>\n",
       "    <tr>\n",
       "      <th>1</th>\n",
       "      <td>Mumbai Tiffin</td>\n",
       "      <td>North Indian, Home Food, Thalis, Combo</td>\n",
       "      <td>Sector 5, HSR</td>\n",
       "      <td>4.4</td>\n",
       "      <td>400.0</td>\n",
       "    </tr>\n",
       "    <tr>\n",
       "      <th>3</th>\n",
       "      <td>Al Daaz</td>\n",
       "      <td>American, Arabian, Chinese, Desserts, Fast Foo...</td>\n",
       "      <td>HSR, HSR</td>\n",
       "      <td>4.4</td>\n",
       "      <td>400.0</td>\n",
       "    </tr>\n",
       "    <tr>\n",
       "      <th>8</th>\n",
       "      <td>Hotel Manu</td>\n",
       "      <td>South Indian, Kerala, Chinese, North Indian</td>\n",
       "      <td>HSR, HSR</td>\n",
       "      <td>4.1</td>\n",
       "      <td>350.0</td>\n",
       "    </tr>\n",
       "    <tr>\n",
       "      <th>19</th>\n",
       "      <td>Shree Khana Khazana</td>\n",
       "      <td>Indian, Rajasthani</td>\n",
       "      <td>Sector 4, HSR</td>\n",
       "      <td>4.1</td>\n",
       "      <td>350.0</td>\n",
       "    </tr>\n",
       "    <tr>\n",
       "      <th>24</th>\n",
       "      <td>New Udupi Grand</td>\n",
       "      <td>Chinese, Jain, North Indian, South Indian</td>\n",
       "      <td>HSR, HSR</td>\n",
       "      <td>4.3</td>\n",
       "      <td>150.0</td>\n",
       "    </tr>\n",
       "    <tr>\n",
       "      <th>36</th>\n",
       "      <td>Biriyani Zone</td>\n",
       "      <td>North Indian, Chinese, Biryani</td>\n",
       "      <td>HSR 1st sector, HSR</td>\n",
       "      <td>4.1</td>\n",
       "      <td>600.0</td>\n",
       "    </tr>\n",
       "    <tr>\n",
       "      <th>37</th>\n",
       "      <td>Gongura's</td>\n",
       "      <td>North Indian, Chinese, Biryani</td>\n",
       "      <td>Sector 7, HSR</td>\n",
       "      <td>3.8</td>\n",
       "      <td>300.0</td>\n",
       "    </tr>\n",
       "    <tr>\n",
       "      <th>39</th>\n",
       "      <td>Leon Grill</td>\n",
       "      <td>Turkish, Portuguese, American</td>\n",
       "      <td>3rd Sector, HSR</td>\n",
       "      <td>4.3</td>\n",
       "      <td>300.0</td>\n",
       "    </tr>\n",
       "    <tr>\n",
       "      <th>41</th>\n",
       "      <td>Cakewala</td>\n",
       "      <td>Desserts</td>\n",
       "      <td>HSR, HSR</td>\n",
       "      <td>4.3</td>\n",
       "      <td>450.0</td>\n",
       "    </tr>\n",
       "    <tr>\n",
       "      <th>57</th>\n",
       "      <td>Donne Biriyani House</td>\n",
       "      <td>South Indian</td>\n",
       "      <td>3rd sector, HSR</td>\n",
       "      <td>4.0</td>\n",
       "      <td>300.0</td>\n",
       "    </tr>\n",
       "    <tr>\n",
       "      <th>58</th>\n",
       "      <td>Nanda's</td>\n",
       "      <td>Andhra, Biryani</td>\n",
       "      <td>HSR, HSR</td>\n",
       "      <td>4.0</td>\n",
       "      <td>400.0</td>\n",
       "    </tr>\n",
       "    <tr>\n",
       "      <th>61</th>\n",
       "      <td>Cake Garden</td>\n",
       "      <td>Desserts, Bakery</td>\n",
       "      <td>HSR, HSR</td>\n",
       "      <td>3.9</td>\n",
       "      <td>250.0</td>\n",
       "    </tr>\n",
       "    <tr>\n",
       "      <th>71</th>\n",
       "      <td>Nizams Biryani</td>\n",
       "      <td>Biryani, Juices, Kebabs</td>\n",
       "      <td>Venkatapura Main Rd, Teacher's Colony, Jakkasa...</td>\n",
       "      <td>3.6</td>\n",
       "      <td>200.0</td>\n",
       "    </tr>\n",
       "    <tr>\n",
       "      <th>73</th>\n",
       "      <td>Punjabi Rasoi</td>\n",
       "      <td>North Indian</td>\n",
       "      <td>Sector 3, HSR</td>\n",
       "      <td>4.0</td>\n",
       "      <td>800.0</td>\n",
       "    </tr>\n",
       "    <tr>\n",
       "      <th>98</th>\n",
       "      <td>Mandya Gowdru Donne Biryani</td>\n",
       "      <td>Biryani</td>\n",
       "      <td>HSR, HSR</td>\n",
       "      <td>0.0</td>\n",
       "      <td>350.0</td>\n",
       "    </tr>\n",
       "    <tr>\n",
       "      <th>99</th>\n",
       "      <td>Dindigul Thalapakatti Biriyani</td>\n",
       "      <td>North Indian</td>\n",
       "      <td>HSR, HSR</td>\n",
       "      <td>4.1</td>\n",
       "      <td>650.0</td>\n",
       "    </tr>\n",
       "    <tr>\n",
       "      <th>101</th>\n",
       "      <td>Easy Bites</td>\n",
       "      <td>Snacks, American</td>\n",
       "      <td>9th Main Rd, Sector 6, HSR Layout, HSR</td>\n",
       "      <td>3.8</td>\n",
       "      <td>200.0</td>\n",
       "    </tr>\n",
       "    <tr>\n",
       "      <th>107</th>\n",
       "      <td>Junior Kuppanna</td>\n",
       "      <td>Chettinad, South Indian</td>\n",
       "      <td>Sector 6, HSR</td>\n",
       "      <td>4.0</td>\n",
       "      <td>550.0</td>\n",
       "    </tr>\n",
       "  </tbody>\n",
       "</table>\n",
       "</div>"
      ],
      "text/plain": [
       "                          Shop_Name  \\\n",
       "1                     Mumbai Tiffin   \n",
       "3                           Al Daaz   \n",
       "8                        Hotel Manu   \n",
       "19              Shree Khana Khazana   \n",
       "24                  New Udupi Grand   \n",
       "36                    Biriyani Zone   \n",
       "37                        Gongura's   \n",
       "39                       Leon Grill   \n",
       "41                         Cakewala   \n",
       "57             Donne Biriyani House   \n",
       "58                          Nanda's   \n",
       "61                      Cake Garden   \n",
       "71                   Nizams Biryani   \n",
       "73                    Punjabi Rasoi   \n",
       "98      Mandya Gowdru Donne Biryani   \n",
       "99   Dindigul Thalapakatti Biriyani   \n",
       "101                      Easy Bites   \n",
       "107                 Junior Kuppanna   \n",
       "\n",
       "                                               Cuisine  \\\n",
       "1               North Indian, Home Food, Thalis, Combo   \n",
       "3    American, Arabian, Chinese, Desserts, Fast Foo...   \n",
       "8          South Indian, Kerala, Chinese, North Indian   \n",
       "19                                  Indian, Rajasthani   \n",
       "24           Chinese, Jain, North Indian, South Indian   \n",
       "36                      North Indian, Chinese, Biryani   \n",
       "37                      North Indian, Chinese, Biryani   \n",
       "39                       Turkish, Portuguese, American   \n",
       "41                                            Desserts   \n",
       "57                                        South Indian   \n",
       "58                                     Andhra, Biryani   \n",
       "61                                    Desserts, Bakery   \n",
       "71                             Biryani, Juices, Kebabs   \n",
       "73                                        North Indian   \n",
       "98                                             Biryani   \n",
       "99                                        North Indian   \n",
       "101                                   Snacks, American   \n",
       "107                            Chettinad, South Indian   \n",
       "\n",
       "                                              Location  Rating  \\\n",
       "1                                        Sector 5, HSR     4.4   \n",
       "3                                             HSR, HSR     4.4   \n",
       "8                                             HSR, HSR     4.1   \n",
       "19                                       Sector 4, HSR     4.1   \n",
       "24                                            HSR, HSR     4.3   \n",
       "36                                 HSR 1st sector, HSR     4.1   \n",
       "37                                       Sector 7, HSR     3.8   \n",
       "39                                     3rd Sector, HSR     4.3   \n",
       "41                                            HSR, HSR     4.3   \n",
       "57                                     3rd sector, HSR     4.0   \n",
       "58                                            HSR, HSR     4.0   \n",
       "61                                            HSR, HSR     3.9   \n",
       "71   Venkatapura Main Rd, Teacher's Colony, Jakkasa...     3.6   \n",
       "73                                       Sector 3, HSR     4.0   \n",
       "98                                            HSR, HSR     0.0   \n",
       "99                                            HSR, HSR     4.1   \n",
       "101             9th Main Rd, Sector 6, HSR Layout, HSR     3.8   \n",
       "107                                      Sector 6, HSR     4.0   \n",
       "\n",
       "     Cost_for_Two (₹)  \n",
       "1               400.0  \n",
       "3               400.0  \n",
       "8               350.0  \n",
       "19              350.0  \n",
       "24              150.0  \n",
       "36              600.0  \n",
       "37              300.0  \n",
       "39              300.0  \n",
       "41              450.0  \n",
       "57              300.0  \n",
       "58              400.0  \n",
       "61              250.0  \n",
       "71              200.0  \n",
       "73              800.0  \n",
       "98              350.0  \n",
       "99              650.0  \n",
       "101             200.0  \n",
       "107             550.0  "
      ]
     },
     "execution_count": 27,
     "metadata": {},
     "output_type": "execute_result"
    }
   ],
   "source": [
    "swiggy_Hsr"
   ]
  },
  {
   "cell_type": "code",
   "execution_count": 28,
   "metadata": {
    "colab": {
     "base_uri": "https://localhost:8080/"
    },
    "executionInfo": {
     "elapsed": 77,
     "status": "ok",
     "timestamp": 1630305091614,
     "user": {
      "displayName": "charu chaudhary",
      "photoUrl": "",
      "userId": "15964787324055720300"
     },
     "user_tz": -330
    },
    "id": "25IFFcAK78Xi",
    "outputId": "8a45153a-0c80-4318-a04b-dd189537509c"
   },
   "outputs": [
    {
     "data": {
      "text/plain": [
       "Shop_Name           18\n",
       "Cuisine             18\n",
       "Location            18\n",
       "Rating              18\n",
       "Cost_for_Two (₹)    18\n",
       "dtype: int64"
      ]
     },
     "execution_count": 28,
     "metadata": {},
     "output_type": "execute_result"
    }
   ],
   "source": [
    "swiggy_Hsr.count()"
   ]
  },
  {
   "cell_type": "code",
   "execution_count": 29,
   "metadata": {
    "executionInfo": {
     "elapsed": 74,
     "status": "ok",
     "timestamp": 1630305091615,
     "user": {
      "displayName": "charu chaudhary",
      "photoUrl": "",
      "userId": "15964787324055720300"
     },
     "user_tz": -330
    },
    "id": "UnTzA2cO8Uyy"
   },
   "outputs": [],
   "source": [
    "swiggy_BTM= swiggy_data[swiggy_data['Location'].str.contains(r'BTM')]"
   ]
  },
  {
   "cell_type": "code",
   "execution_count": 30,
   "metadata": {
    "colab": {
     "base_uri": "https://localhost:8080/"
    },
    "executionInfo": {
     "elapsed": 74,
     "status": "ok",
     "timestamp": 1630305091617,
     "user": {
      "displayName": "charu chaudhary",
      "photoUrl": "",
      "userId": "15964787324055720300"
     },
     "user_tz": -330
    },
    "id": "-ykYVrlW8zXJ",
    "outputId": "72138d9d-88b8-4f0b-f9a8-bdb290784d21"
   },
   "outputs": [
    {
     "data": {
      "text/plain": [
       "Shop_Name           35\n",
       "Cuisine             35\n",
       "Location            35\n",
       "Rating              35\n",
       "Cost_for_Two (₹)    35\n",
       "dtype: int64"
      ]
     },
     "execution_count": 30,
     "metadata": {},
     "output_type": "execute_result"
    }
   ],
   "source": [
    "swiggy_BTM.count()"
   ]
  },
  {
   "cell_type": "markdown",
   "metadata": {
    "id": "mxuDdo2G9DwY"
   },
   "source": [
    "As we can see the returants are given from only 3 locations\n"
   ]
  },
  {
   "cell_type": "markdown",
   "metadata": {
    "id": "J66E9eat9UL-"
   },
   "source": [
    "## Area wise analysis "
   ]
  },
  {
   "cell_type": "markdown",
   "metadata": {
    "id": "KPmRSYM_jfqj"
   },
   "source": [
    "BTM Area "
   ]
  },
  {
   "cell_type": "code",
   "execution_count": 31,
   "metadata": {
    "colab": {
     "base_uri": "https://localhost:8080/",
     "height": 282
    },
    "executionInfo": {
     "elapsed": 571,
     "status": "ok",
     "timestamp": 1630305092118,
     "user": {
      "displayName": "charu chaudhary",
      "photoUrl": "",
      "userId": "15964787324055720300"
     },
     "user_tz": -330
    },
    "id": "B0lw4BsN81FS",
    "outputId": "afec2b67-dfb6-40aa-c15d-2d40bfa59092"
   },
   "outputs": [
    {
     "data": {
      "text/plain": [
       "<Axes: ylabel='Frequency'>"
      ]
     },
     "execution_count": 31,
     "metadata": {},
     "output_type": "execute_result"
    },
    {
     "data": {
      "image/png": "[encoded data removed]",
      "text/plain": [
       "<Figure size 640x480 with 1 Axes>"
      ]
     },
     "metadata": {},
     "output_type": "display_data"
    }
   ],
   "source": [
    "swiggy_BTM['Rating'].plot.hist(bins=10)\n"
   ]
  },
  {
   "cell_type": "code",
   "execution_count": 32,
   "metadata": {
    "colab": {
     "base_uri": "https://localhost:8080/",
     "height": 282
    },
    "executionInfo": {
     "elapsed": 58,
     "status": "ok",
     "timestamp": 1630305092122,
     "user": {
      "displayName": "charu chaudhary",
      "photoUrl": "",
      "userId": "15964787324055720300"
     },
     "user_tz": -330
    },
    "id": "L6IxeAFSgWHF",
    "outputId": "163c0827-54dd-46eb-d027-a8ea6bdcebd5"
   },
   "outputs": [
    {
     "data": {
      "text/plain": [
       "<Axes: ylabel='Frequency'>"
      ]
     },
     "execution_count": 32,
     "metadata": {},
     "output_type": "execute_result"
    },
    {
     "data": {
      "image/png": "[encoded data removed]",
      "text/plain": [
       "<Figure size 640x480 with 1 Axes>"
      ]
     },
     "metadata": {},
     "output_type": "display_data"
    }
   ],
   "source": [
    "swiggy_BTM['Cost_for_Two (₹)'].plot.hist(bins=10)"
   ]
  },
  {
   "cell_type": "markdown",
   "metadata": {
    "id": "Lk6i9VJvjoux"
   },
   "source": [
    "HSR Area\n"
   ]
  },
  {
   "cell_type": "code",
   "execution_count": 33,
   "metadata": {
    "colab": {
     "base_uri": "https://localhost:8080/",
     "height": 282
    },
    "executionInfo": {
     "elapsed": 52,
     "status": "ok",
     "timestamp": 1630305092123,
     "user": {
      "displayName": "charu chaudhary",
      "photoUrl": "",
      "userId": "15964787324055720300"
     },
     "user_tz": -330
    },
    "id": "K5THisJNi-x8",
    "outputId": "9470afd6-2e0c-4600-8724-90aad4a2fe66"
   },
   "outputs": [
    {
     "data": {
      "text/plain": [
       "<Axes: ylabel='Frequency'>"
      ]
     },
     "execution_count": 33,
     "metadata": {},
     "output_type": "execute_result"
    },
    {
     "data": {
      "image/png": "[encoded data removed]",
      "text/plain": [
       "<Figure size 640x480 with 1 Axes>"
      ]
     },
     "metadata": {},
     "output_type": "display_data"
    }
   ],
   "source": [
    "swiggy_Hsr['Rating'].plot.hist(bins=5)"
   ]
  },
  {
   "cell_type": "code",
   "execution_count": 34,
   "metadata": {
    "colab": {
     "base_uri": "https://localhost:8080/",
     "height": 282
    },
    "executionInfo": {
     "elapsed": 687,
     "status": "ok",
     "timestamp": 1630305092770,
     "user": {
      "displayName": "charu chaudhary",
      "photoUrl": "",
      "userId": "15964787324055720300"
     },
     "user_tz": -330
    },
    "id": "WhBGKRz9j327",
    "outputId": "930cec82-c7e5-4c88-fe4a-04b330405b58"
   },
   "outputs": [
    {
     "data": {
      "text/plain": [
       "<Axes: ylabel='Frequency'>"
      ]
     },
     "execution_count": 34,
     "metadata": {},
     "output_type": "execute_result"
    },
    {
     "data": {
      "image/png": "[encoded data removed]",
      "text/plain": [
       "<Figure size 640x480 with 1 Axes>"
      ]
     },
     "metadata": {},
     "output_type": "display_data"
    }
   ],
   "source": [
    "swiggy_Hsr['Cost_for_Two (₹)'].plot.hist(bins=10)"
   ]
  },
  {
   "cell_type": "markdown",
   "metadata": {
    "id": "XrPI6cNJl78l"
   },
   "source": [
    "Koramangala Area"
   ]
  },
  {
   "cell_type": "code",
   "execution_count": 35,
   "metadata": {
    "colab": {
     "base_uri": "https://localhost:8080/",
     "height": 282
    },
    "executionInfo": {
     "elapsed": 21,
     "status": "ok",
     "timestamp": 1630305092772,
     "user": {
      "displayName": "charu chaudhary",
      "photoUrl": "",
      "userId": "15964787324055720300"
     },
     "user_tz": -330
    },
    "id": "UflVPkctkI4G",
    "outputId": "36d33f9c-c100-45ab-8c7f-6e8d7d4acaf3"
   },
   "outputs": [
    {
     "data": {
      "text/plain": [
       "<Axes: ylabel='Frequency'>"
      ]
     },
     "execution_count": 35,
     "metadata": {},
     "output_type": "execute_result"
    },
    {
     "data": {
      "image/png": "[encoded data removed]",
      "text/plain": [
       "<Figure size 640x480 with 1 Axes>"
      ]
     },
     "metadata": {},
     "output_type": "display_data"
    }
   ],
   "source": [
    "swiggy_Koramangala['Rating'].plot.hist(bins=10)"
   ]
  },
  {
   "cell_type": "code",
   "execution_count": 36,
   "metadata": {
    "colab": {
     "base_uri": "https://localhost:8080/",
     "height": 282
    },
    "executionInfo": {
     "elapsed": 547,
     "status": "ok",
     "timestamp": 1630305093303,
     "user": {
      "displayName": "charu chaudhary",
      "photoUrl": "",
      "userId": "15964787324055720300"
     },
     "user_tz": -330
    },
    "id": "Ixgblr0fkSx5",
    "outputId": "87cba8a1-70f9-4177-91a9-13d5ed3539f6"
   },
   "outputs": [
    {
     "data": {
      "text/plain": [
       "<Axes: ylabel='Frequency'>"
      ]
     },
     "execution_count": 36,
     "metadata": {},
     "output_type": "execute_result"
    },
    {
     "data": {
      "image/png": "[encoded data removed]",
      "text/plain": [
       "<Figure size 640x480 with 1 Axes>"
      ]
     },
     "metadata": {},
     "output_type": "display_data"
    }
   ],
   "source": [
    "swiggy_Koramangala['Cost_for_Two (₹)'].plot.hist(bins=15)"
   ]
  },
  {
   "cell_type": "markdown",
   "metadata": {
    "id": "zjjJUN_Yk_nJ"
   },
   "source": [
    "As you can see Area wise the rating is different and so as cost.\n",
    "1. BTM : Most has 4.1 to 4.2 rating cost between 200 to 300.\n",
    "2. Hsr : Most has 4 or above rating cost between 300 to 400.\n",
    "3. Koramangala : Most has 4.2 to 4.4 rating cost between 200 to 300.\n",
    "\n",
    "With this we can conclude the most costly area is Hsr"
   ]
  },
  {
   "cell_type": "markdown",
   "metadata": {
    "id": "kLHWrmSuIaJi"
   },
   "source": [
    "# cusine Analysis "
   ]
  },
  {
   "cell_type": "code",
   "execution_count": 37,
   "metadata": {
    "colab": {
     "base_uri": "https://localhost:8080/"
    },
    "executionInfo": {
     "elapsed": 67,
     "status": "ok",
     "timestamp": 1630305093307,
     "user": {
      "displayName": "charu chaudhary",
      "photoUrl": "",
      "userId": "15964787324055720300"
     },
     "user_tz": -330
    },
    "id": "898ExokZkWA-",
    "outputId": "e94ae80a-f0de-44e5-e194-982e9f20af5f"
   },
   "outputs": [
    {
     "name": "stdout",
     "output_type": "stream",
     "text": [
      "{'Sweets': 2, 'North Indian': 32, 'Home Food': 2, 'Thalis': 1, 'Combo': 1, 'South Indian': 23, 'Fast Food': 16, 'Beverages': 9, 'Jain': 2, 'American': 8, 'Arabian': 4, 'Chinese': 35, 'Desserts': 15, 'Mughlai': 7, 'Thai': 2, 'Italian': 4, 'Kerala': 6, 'Pizzas': 5, 'Mexican': 3, 'Andhra': 12, 'Seafood': 8, 'Biryani': 18, 'Indian': 5, 'Rajasthani': 1, 'Bakery': 2, 'Healthy Food': 4, 'Hyderabadi': 5, 'Snacks': 4, 'Turkish': 2, 'Portuguese': 2, 'Chaat': 2, 'Asian': 3, 'Continental': 3, 'Mediterranean': 1, 'Lebanese': 1, 'Cafe': 2, 'Salads': 2, 'Pastas': 1, 'Punjabi': 2, 'Juices': 2, 'Kebabs': 2, 'Grill': 2, 'Ice Cream': 2, 'Tandoor': 1, 'Chettinad': 2, 'Pan-Asian': 2, 'Oriental': 1, 'Middle Eastern': 1}\n",
      "48\n"
     ]
    }
   ],
   "source": [
    "from collections import Counter\n",
    "freq= {}\n",
    "for i in swiggy_data['Cuisine'].unique():\n",
    "  #print(type(i))\n",
    "  #print(i)\n",
    "  a=i.split(',')\n",
    " # print(a)\n",
    "  for p in a:\n",
    "    free=p.lstrip(' ')\n",
    "    if free in freq:\n",
    "      freq[free]+=1\n",
    "    else:\n",
    "      freq[free]=1\n",
    "\n",
    "print(freq)\n",
    "  #new=Counter(a)\n",
    "  #print(Counter(a))\n",
    "  #d={a:a.count(x) for x in a}\n",
    "    #print(x)\n",
    "  #print(new)\n",
    "print(len(freq))"
   ]
  },
  {
   "cell_type": "markdown",
   "metadata": {
    "id": "LvSImWtFIvjK"
   },
   "source": [
    "Here you can see the different types of cusine present and the number of shops sell them"
   ]
  },
  {
   "cell_type": "code",
   "execution_count": 38,
   "metadata": {
    "colab": {
     "base_uri": "https://localhost:8080/"
    },
    "executionInfo": {
     "elapsed": 417,
     "status": "ok",
     "timestamp": 1630307668357,
     "user": {
      "displayName": "charu chaudhary",
      "photoUrl": "",
      "userId": "15964787324055720300"
     },
     "user_tz": -330
    },
    "id": "X41kiPLYCo6-",
    "outputId": "2888aa63-a18e-4e8e-ac61-a76bdc686a24"
   },
   "outputs": [
    {
     "data": {
      "text/plain": [
       "79"
      ]
     },
     "execution_count": 38,
     "metadata": {},
     "output_type": "execute_result"
    }
   ],
   "source": [
    "swiggy_data['Cuisine'].nunique()"
   ]
  },
  {
   "cell_type": "code",
   "execution_count": 39,
   "metadata": {
    "executionInfo": {
     "elapsed": 7,
     "status": "ok",
     "timestamp": 1630307668828,
     "user": {
      "displayName": "charu chaudhary",
      "photoUrl": "",
      "userId": "15964787324055720300"
     },
     "user_tz": -330
    },
    "id": "qLwSjX9cDFXV"
   },
   "outputs": [],
   "source": [
    "list_of_cusine=swiggy_data.Cuisine.unique()"
   ]
  },
  {
   "cell_type": "code",
   "execution_count": 40,
   "metadata": {
    "colab": {
     "base_uri": "https://localhost:8080/"
    },
    "executionInfo": {
     "elapsed": 7,
     "status": "ok",
     "timestamp": 1630307669381,
     "user": {
      "displayName": "charu chaudhary",
      "photoUrl": "",
      "userId": "15964787324055720300"
     },
     "user_tz": -330
    },
    "id": "aoaMwnQaDuQv",
    "outputId": "f836c153-743c-4fac-a011-42b78ec27161"
   },
   "outputs": [
    {
     "data": {
      "text/plain": [
       "79"
      ]
     },
     "execution_count": 40,
     "metadata": {},
     "output_type": "execute_result"
    }
   ],
   "source": [
    "swiggy_data.Cuisine.nunique()"
   ]
  },
  {
   "cell_type": "code",
   "execution_count": 41,
   "metadata": {
    "colab": {
     "base_uri": "https://localhost:8080/",
     "height": 445
    },
    "executionInfo": {
     "elapsed": 22,
     "status": "ok",
     "timestamp": 1630307669831,
     "user": {
      "displayName": "charu chaudhary",
      "photoUrl": "",
      "userId": "15964787324055720300"
     },
     "user_tz": -330
    },
    "id": "ZjWfE3adD3ZB",
    "outputId": "dfc8ffaa-16d6-4626-c0cd-fc7eb2a70826"
   },
   "outputs": [
    {
     "data": {
      "text/html": [
       "<div>\n",
       "<style scoped>\n",
       "    .dataframe tbody tr th:only-of-type {\n",
       "        vertical-align: middle;\n",
       "    }\n",
       "\n",
       "    .dataframe tbody tr th {\n",
       "        vertical-align: top;\n",
       "    }\n",
       "\n",
       "    .dataframe thead th {\n",
       "        text-align: right;\n",
       "    }\n",
       "</style>\n",
       "<table border=\"1\" class=\"dataframe\">\n",
       "  <thead>\n",
       "    <tr style=\"text-align: right;\">\n",
       "      <th></th>\n",
       "      <th>Rating</th>\n",
       "      <th>Cost_for_Two (₹)</th>\n",
       "    </tr>\n",
       "    <tr>\n",
       "      <th>Cuisine</th>\n",
       "      <th></th>\n",
       "      <th></th>\n",
       "    </tr>\n",
       "  </thead>\n",
       "  <tbody>\n",
       "    <tr>\n",
       "      <th>American</th>\n",
       "      <td>4.3</td>\n",
       "      <td>450.0</td>\n",
       "    </tr>\n",
       "    <tr>\n",
       "      <th>American, Arabian, Chinese, Desserts, Fast Food, Mughlai, North Indian</th>\n",
       "      <td>4.4</td>\n",
       "      <td>400.0</td>\n",
       "    </tr>\n",
       "    <tr>\n",
       "      <th>American, Fast Food</th>\n",
       "      <td>12.5</td>\n",
       "      <td>1050.0</td>\n",
       "    </tr>\n",
       "    <tr>\n",
       "      <th>Andhra, Biryani</th>\n",
       "      <td>12.1</td>\n",
       "      <td>1300.0</td>\n",
       "    </tr>\n",
       "    <tr>\n",
       "      <th>Andhra, Biryani, Chinese, Desserts, Fast Food, Seafood, South Indian</th>\n",
       "      <td>8.3</td>\n",
       "      <td>450.0</td>\n",
       "    </tr>\n",
       "    <tr>\n",
       "      <th>...</th>\n",
       "      <td>...</td>\n",
       "      <td>...</td>\n",
       "    </tr>\n",
       "    <tr>\n",
       "      <th>South Indian, North Indian, Fast Food, Beverages, Jain</th>\n",
       "      <td>4.1</td>\n",
       "      <td>126.0</td>\n",
       "    </tr>\n",
       "    <tr>\n",
       "      <th>South Indian, Snacks, North Indian, Chinese</th>\n",
       "      <td>4.1</td>\n",
       "      <td>250.0</td>\n",
       "    </tr>\n",
       "    <tr>\n",
       "      <th>Sweets</th>\n",
       "      <td>4.3</td>\n",
       "      <td>150.0</td>\n",
       "    </tr>\n",
       "    <tr>\n",
       "      <th>Turkish, Portuguese, American</th>\n",
       "      <td>4.3</td>\n",
       "      <td>300.0</td>\n",
       "    </tr>\n",
       "    <tr>\n",
       "      <th>Turkish, Portuguese, American, Grill</th>\n",
       "      <td>4.3</td>\n",
       "      <td>300.0</td>\n",
       "    </tr>\n",
       "  </tbody>\n",
       "</table>\n",
       "<p>79 rows × 2 columns</p>\n",
       "</div>"
      ],
      "text/plain": [
       "                                                    Rating  Cost_for_Two (₹)\n",
       "Cuisine                                                                     \n",
       "American                                               4.3             450.0\n",
       "American, Arabian, Chinese, Desserts, Fast Food...     4.4             400.0\n",
       "American, Fast Food                                   12.5            1050.0\n",
       "Andhra, Biryani                                       12.1            1300.0\n",
       "Andhra, Biryani, Chinese, Desserts, Fast Food, ...     8.3             450.0\n",
       "...                                                    ...               ...\n",
       "South Indian, North Indian, Fast Food, Beverage...     4.1             126.0\n",
       "South Indian, Snacks, North Indian, Chinese            4.1             250.0\n",
       "Sweets                                                 4.3             150.0\n",
       "Turkish, Portuguese, American                          4.3             300.0\n",
       "Turkish, Portuguese, American, Grill                   4.3             300.0\n",
       "\n",
       "[79 rows x 2 columns]"
      ]
     },
     "execution_count": 41,
     "metadata": {},
     "output_type": "execute_result"
    }
   ],
   "source": [
    "swiggy_data.groupby(swiggy_data['Cuisine']).sum()"
   ]
  },
  {
   "cell_type": "markdown",
   "metadata": {
    "id": "XRMLnWkcJD2o"
   },
   "source": [
    "Here you can see total number of shops in dataset are 115 out of 118"
   ]
  },
  {
   "cell_type": "code",
   "execution_count": 42,
   "metadata": {
    "colab": {
     "base_uri": "https://localhost:8080/"
    },
    "executionInfo": {
     "elapsed": 18,
     "status": "ok",
     "timestamp": 1630307669832,
     "user": {
      "displayName": "charu chaudhary",
      "photoUrl": "",
      "userId": "15964787324055720300"
     },
     "user_tz": -330
    },
    "id": "9aPfu2ZNKmGr",
    "outputId": "ee7a9618-c694-4638-ff8f-bbd79addb83b"
   },
   "outputs": [
    {
     "data": {
      "text/plain": [
       "115"
      ]
     },
     "execution_count": 42,
     "metadata": {},
     "output_type": "execute_result"
    }
   ],
   "source": [
    "swiggy_data['Shop_Name'].nunique()"
   ]
  },
  {
   "cell_type": "code",
   "execution_count": 43,
   "metadata": {
    "colab": {
     "base_uri": "https://localhost:8080/",
     "height": 232
    },
    "executionInfo": {
     "elapsed": 20,
     "status": "ok",
     "timestamp": 1630307672987,
     "user": {
      "displayName": "charu chaudhary",
      "photoUrl": "",
      "userId": "15964787324055720300"
     },
     "user_tz": -330
    },
    "id": "GcdS5e1gMTKH",
    "outputId": "bec15f78-8c48-41f2-9f16-f3cafb2b429d"
   },
   "outputs": [
    {
     "data": {
      "text/html": [
       "<div>\n",
       "<style scoped>\n",
       "    .dataframe tbody tr th:only-of-type {\n",
       "        vertical-align: middle;\n",
       "    }\n",
       "\n",
       "    .dataframe tbody tr th {\n",
       "        vertical-align: top;\n",
       "    }\n",
       "\n",
       "    .dataframe thead th {\n",
       "        text-align: right;\n",
       "    }\n",
       "</style>\n",
       "<table border=\"1\" class=\"dataframe\">\n",
       "  <thead>\n",
       "    <tr style=\"text-align: right;\">\n",
       "      <th></th>\n",
       "      <th>Shop_Name</th>\n",
       "      <th>Cuisine</th>\n",
       "      <th>Location</th>\n",
       "      <th>Rating</th>\n",
       "      <th>Cost_for_Two (₹)</th>\n",
       "    </tr>\n",
       "  </thead>\n",
       "  <tbody>\n",
       "    <tr>\n",
       "      <th>7</th>\n",
       "      <td>La Pino'z Pizza</td>\n",
       "      <td>Italian</td>\n",
       "      <td>BTM, BTM</td>\n",
       "      <td>3.9</td>\n",
       "      <td>500.0</td>\n",
       "    </tr>\n",
       "    <tr>\n",
       "      <th>30</th>\n",
       "      <td>Easy Bites</td>\n",
       "      <td>Snacks, American</td>\n",
       "      <td>koramangala, Koramangala</td>\n",
       "      <td>3.9</td>\n",
       "      <td>200.0</td>\n",
       "    </tr>\n",
       "    <tr>\n",
       "      <th>39</th>\n",
       "      <td>Leon Grill</td>\n",
       "      <td>Turkish, Portuguese, American</td>\n",
       "      <td>3rd Sector, HSR</td>\n",
       "      <td>4.3</td>\n",
       "      <td>300.0</td>\n",
       "    </tr>\n",
       "    <tr>\n",
       "      <th>77</th>\n",
       "      <td>Leon Grill</td>\n",
       "      <td>Turkish, Portuguese, American, Grill</td>\n",
       "      <td>5th Block, Koramangala</td>\n",
       "      <td>4.3</td>\n",
       "      <td>300.0</td>\n",
       "    </tr>\n",
       "    <tr>\n",
       "      <th>97</th>\n",
       "      <td>La Pino'z Pizza</td>\n",
       "      <td>Italian</td>\n",
       "      <td>4th Block, Koramangala</td>\n",
       "      <td>3.9</td>\n",
       "      <td>251.0</td>\n",
       "    </tr>\n",
       "    <tr>\n",
       "      <th>101</th>\n",
       "      <td>Easy Bites</td>\n",
       "      <td>Snacks, American</td>\n",
       "      <td>9th Main Rd, Sector 6, HSR Layout, HSR</td>\n",
       "      <td>3.8</td>\n",
       "      <td>200.0</td>\n",
       "    </tr>\n",
       "  </tbody>\n",
       "</table>\n",
       "</div>"
      ],
      "text/plain": [
       "           Shop_Name                               Cuisine  \\\n",
       "7    La Pino'z Pizza                               Italian   \n",
       "30        Easy Bites                      Snacks, American   \n",
       "39        Leon Grill         Turkish, Portuguese, American   \n",
       "77        Leon Grill  Turkish, Portuguese, American, Grill   \n",
       "97   La Pino'z Pizza                               Italian   \n",
       "101       Easy Bites                      Snacks, American   \n",
       "\n",
       "                                   Location  Rating  Cost_for_Two (₹)  \n",
       "7                                  BTM, BTM     3.9             500.0  \n",
       "30                 koramangala, Koramangala     3.9             200.0  \n",
       "39                          3rd Sector, HSR     4.3             300.0  \n",
       "77                   5th Block, Koramangala     4.3             300.0  \n",
       "97                   4th Block, Koramangala     3.9             251.0  \n",
       "101  9th Main Rd, Sector 6, HSR Layout, HSR     3.8             200.0  "
      ]
     },
     "execution_count": 43,
     "metadata": {},
     "output_type": "execute_result"
    }
   ],
   "source": [
    "swiggy_data[swiggy_data.duplicated(['Shop_Name'], keep=False)]"
   ]
  },
  {
   "cell_type": "markdown",
   "metadata": {
    "id": "BwXN0HgLJN1L"
   },
   "source": [
    "Here you can see 3 same shops are present in different area and La Pino'z Pizza price is also changed according to location."
   ]
  },
  {
   "cell_type": "code",
   "execution_count": 44,
   "metadata": {
    "colab": {
     "base_uri": "https://localhost:8080/"
    },
    "executionInfo": {
     "elapsed": 13,
     "status": "ok",
     "timestamp": 1630307674242,
     "user": {
      "displayName": "charu chaudhary",
      "photoUrl": "",
      "userId": "15964787324055720300"
     },
     "user_tz": -330
    },
    "id": "c4rGOZJfNESk",
    "outputId": "620f6de3-541b-48fa-c513-61c3b213fbca"
   },
   "outputs": [
    {
     "data": {
      "text/plain": [
       "dtype('O')"
      ]
     },
     "execution_count": 44,
     "metadata": {},
     "output_type": "execute_result"
    }
   ],
   "source": [
    "list_of_cusine.dtype"
   ]
  },
  {
   "cell_type": "markdown",
   "metadata": {
    "id": "90THrkPnJt8A"
   },
   "source": [
    "Bar greaph for the number of cusine items"
   ]
  },
  {
   "cell_type": "code",
   "execution_count": 45,
   "metadata": {
    "colab": {
     "base_uri": "https://localhost:8080/",
     "height": 691
    },
    "executionInfo": {
     "elapsed": 1328,
     "status": "ok",
     "timestamp": 1630307677681,
     "user": {
      "displayName": "charu chaudhary",
      "photoUrl": "",
      "userId": "15964787324055720300"
     },
     "user_tz": -330
    },
    "id": "h5eANcxxTcSt",
    "outputId": "476690b2-17f5-4756-fd02-15593fd5f634"
   },
   "outputs": [
    {
     "data": {
      "text/plain": [
       "(array([ 0.,  5., 10., 15., 20., 25., 30., 35., 40.]),\n",
       " [Text(0, 0.0, '0'),\n",
       "  Text(0, 5.0, '5'),\n",
       "  Text(0, 10.0, '10'),\n",
       "  Text(0, 15.0, '15'),\n",
       "  Text(0, 20.0, '20'),\n",
       "  Text(0, 25.0, '25'),\n",
       "  Text(0, 30.0, '30'),\n",
       "  Text(0, 35.0, '35'),\n",
       "  Text(0, 40.0, '40')])"
      ]
     },
     "execution_count": 45,
     "metadata": {},
     "output_type": "execute_result"
    },
    {
     "data": {
      "image/png": "[encoded data removed]",
      "text/plain": [
       "<Figure size 2000x1000 with 1 Axes>"
      ]
     },
     "metadata": {},
     "output_type": "display_data"
    }
   ],
   "source": [
    "keys = freq.keys()\n",
    "values = freq.values()\n",
    "plt.figure(figsize=(20,10))\n",
    "plt.bar(keys,values)\n",
    "plt.xticks(rotation='vertical')\n",
    "plt.yticks()"
   ]
  },
  {
   "cell_type": "code",
   "execution_count": 46,
   "metadata": {
    "colab": {
     "base_uri": "https://localhost:8080/"
    },
    "executionInfo": {
     "elapsed": 402,
     "status": "ok",
     "timestamp": 1630307728489,
     "user": {
      "displayName": "charu chaudhary",
      "photoUrl": "",
      "userId": "15964787324055720300"
     },
     "user_tz": -330
    },
    "id": "h4TKKYN9P2uh",
    "outputId": "30a5dee8-b089-46e5-ecb7-23c2245de16d"
   },
   "outputs": [
    {
     "name": "stdout",
     "output_type": "stream",
     "text": [
      "{'Sweets': 2, 'North Indian': 32, 'Home Food': 2, 'Thalis': 1, 'Combo': 1, 'South Indian': 23, 'Fast Food': 16, 'Beverages': 9, 'Jain': 2, 'American': 8, 'Arabian': 4, 'Chinese': 35, 'Desserts': 15, 'Mughlai': 7, 'Thai': 2, 'Italian': 4, 'Kerala': 6, 'Pizzas': 5, 'Mexican': 3, 'Andhra': 12, 'Seafood': 8, 'Biryani': 18, 'Indian': 5, 'Rajasthani': 1, 'Bakery': 2, 'Healthy Food': 4, 'Hyderabadi': 5, 'Snacks': 4, 'Turkish': 2, 'Portuguese': 2, 'Chaat': 2, 'Asian': 3, 'Continental': 3, 'Mediterranean': 1, 'Lebanese': 1, 'Cafe': 2, 'Salads': 2, 'Pastas': 1, 'Punjabi': 2, 'Juices': 2, 'Kebabs': 2, 'Grill': 2, 'Ice Cream': 2, 'Tandoor': 1, 'Chettinad': 2, 'Pan-Asian': 2, 'Oriental': 1, 'Middle Eastern': 1}\n"
     ]
    }
   ],
   "source": [
    "print(freq)"
   ]
  },
  {
   "cell_type": "code",
   "execution_count": 47,
   "metadata": {
    "colab": {
     "base_uri": "https://localhost:8080/"
    },
    "executionInfo": {
     "elapsed": 406,
     "status": "ok",
     "timestamp": 1630307741170,
     "user": {
      "displayName": "charu chaudhary",
      "photoUrl": "",
      "userId": "15964787324055720300"
     },
     "user_tz": -330
    },
    "id": "qTZDgCZfbppj",
    "outputId": "1903f5cd-e7ba-4ac8-898e-af0611b4381b"
   },
   "outputs": [
    {
     "name": "stdout",
     "output_type": "stream",
     "text": [
      "Chinese => 35\n"
     ]
    }
   ],
   "source": [
    "\n",
    "Keymax = max(zip(freq.values(), freq.keys()))[1]\n",
    "print(Keymax, \"=>\", freq[Keymax])\n"
   ]
  },
  {
   "cell_type": "markdown",
   "metadata": {
    "id": "1P9avVdHiTIp"
   },
   "source": [
    "here you can watch most of the resturant sell chinease so we may infer that people may be fond of chinese."
   ]
  },
  {
   "cell_type": "markdown",
   "metadata": {
    "id": "fHBQmIkgiz12"
   },
   "source": [
    "#Area wise analysis"
   ]
  },
  {
   "cell_type": "markdown",
   "metadata": {
    "id": "RJCYSCBBKA2C"
   },
   "source": [
    "**BTM Area**\n"
   ]
  },
  {
   "cell_type": "code",
   "execution_count": 48,
   "metadata": {
    "executionInfo": {
     "elapsed": 398,
     "status": "ok",
     "timestamp": 1630308040059,
     "user": {
      "displayName": "charu chaudhary",
      "photoUrl": "",
      "userId": "15964787324055720300"
     },
     "user_tz": -330
    },
    "id": "UDGXyw7FiRM4"
   },
   "outputs": [],
   "source": [
    "from collections import Counter\n",
    "freq_btm= {}\n",
    "for i in swiggy_BTM['Cuisine'].unique():\n",
    "  #print(type(i))\n",
    "  #print(i)\n",
    "  a=i.split(',')\n",
    "  for p in a:\n",
    "    striped=p.lstrip(' ')\n",
    "    if striped in freq_btm:\n",
    "      freq_btm[striped]+=1\n",
    "    else:\n",
    "      freq_btm[striped]=1\n"
   ]
  },
  {
   "cell_type": "code",
   "execution_count": 49,
   "metadata": {
    "colab": {
     "base_uri": "https://localhost:8080/",
     "height": 691
    },
    "executionInfo": {
     "elapsed": 527,
     "status": "ok",
     "timestamp": 1630308042630,
     "user": {
      "displayName": "charu chaudhary",
      "photoUrl": "",
      "userId": "15964787324055720300"
     },
     "user_tz": -330
    },
    "id": "Bk88luT6dNN8",
    "outputId": "ff1a2dc6-9923-4db9-c5e5-8bc095e255a4"
   },
   "outputs": [
    {
     "data": {
      "text/plain": [
       "(array([ 0. ,  2.5,  5. ,  7.5, 10. , 12.5, 15. , 17.5, 20. ]),\n",
       " [Text(0, 0.0, '0.0'),\n",
       "  Text(0, 2.5, '2.5'),\n",
       "  Text(0, 5.0, '5.0'),\n",
       "  Text(0, 7.5, '7.5'),\n",
       "  Text(0, 10.0, '10.0'),\n",
       "  Text(0, 12.5, '12.5'),\n",
       "  Text(0, 15.0, '15.0'),\n",
       "  Text(0, 17.5, '17.5'),\n",
       "  Text(0, 20.0, '20.0')])"
      ]
     },
     "execution_count": 49,
     "metadata": {},
     "output_type": "execute_result"
    },
    {
     "data": {
      "image/png": "[encoded data removed]",
      "text/plain": [
       "<Figure size 2000x1000 with 1 Axes>"
      ]
     },
     "metadata": {},
     "output_type": "display_data"
    }
   ],
   "source": [
    "keys = freq_btm.keys()\n",
    "values = freq_btm.values()\n",
    "plt.figure(figsize=(20,10))\n",
    "plt.bar(keys,values)\n",
    "plt.xticks(rotation='vertical')\n",
    "plt.yticks()"
   ]
  },
  {
   "cell_type": "code",
   "execution_count": 50,
   "metadata": {
    "colab": {
     "base_uri": "https://localhost:8080/"
    },
    "executionInfo": {
     "elapsed": 428,
     "status": "ok",
     "timestamp": 1630308919666,
     "user": {
      "displayName": "charu chaudhary",
      "photoUrl": "",
      "userId": "15964787324055720300"
     },
     "user_tz": -330
    },
    "id": "05KWKYPojzQb",
    "outputId": "b9fe9af0-78ba-466d-ed0c-651832077a99"
   },
   "outputs": [
    {
     "name": "stdout",
     "output_type": "stream",
     "text": [
      "{'Fast Food': 6, 'North Indian': 16, 'Chinese': 18, 'Italian': 1, 'South Indian': 10, 'Desserts': 6, 'Kerala': 4, 'Andhra': 7, 'Beverages': 4, 'Mughlai': 3, 'Seafood': 3, 'Bakery': 1, 'Hyderabadi': 4, 'Indian': 2, 'Biryani': 8, 'Snacks': 1, 'Sweets': 1, 'Chaat': 1, 'Arabian': 2, 'Thai': 1, 'Tandoor': 1, 'Punjabi': 1, 'Healthy Food': 1, 'Chettinad': 1, 'Middle Eastern': 1, 'Grill': 1}\n"
     ]
    }
   ],
   "source": [
    "print(freq_btm)"
   ]
  },
  {
   "cell_type": "code",
   "execution_count": 51,
   "metadata": {
    "colab": {
     "base_uri": "https://localhost:8080/"
    },
    "executionInfo": {
     "elapsed": 10,
     "status": "ok",
     "timestamp": 1630308921598,
     "user": {
      "displayName": "charu chaudhary",
      "photoUrl": "",
      "userId": "15964787324055720300"
     },
     "user_tz": -330
    },
    "id": "-boTCr5Mj_pY",
    "outputId": "f8efa261-f0e6-4cb1-8df2-89a74211cfd5"
   },
   "outputs": [
    {
     "name": "stdout",
     "output_type": "stream",
     "text": [
      "Chinese => 18\n",
      "Bakery => 1\n"
     ]
    }
   ],
   "source": [
    "Keymax = max(zip(freq_btm.values(), freq_btm.keys()))[1]\n",
    "print(Keymax, \"=>\", freq_btm[Keymax])\n",
    "Keymax = min(zip(freq_btm.values(), freq_btm.keys()))[1]\n",
    "print(Keymax, \"=>\", freq_btm[Keymax])"
   ]
  },
  {
   "cell_type": "markdown",
   "metadata": {
    "id": "L9kHp_0RKJTm"
   },
   "source": [
    "In this area more resturant sell chinese cusine"
   ]
  },
  {
   "cell_type": "markdown",
   "metadata": {
    "id": "CIkE4OzZKUoK"
   },
   "source": [
    "**HSR Area**"
   ]
  },
  {
   "cell_type": "code",
   "execution_count": 52,
   "metadata": {
    "executionInfo": {
     "elapsed": 406,
     "status": "ok",
     "timestamp": 1630309030738,
     "user": {
      "displayName": "charu chaudhary",
      "photoUrl": "",
      "userId": "15964787324055720300"
     },
     "user_tz": -330
    },
    "id": "qWY8VtkWkMjz"
   },
   "outputs": [],
   "source": [
    "from collections import Counter\n",
    "freq_hsr= {}\n",
    "for i in swiggy_Hsr['Cuisine'].unique():\n",
    "  #print(type(i))\n",
    "  #print(i)\n",
    "  a=i.split(',')\n",
    "  for p in a:\n",
    "    striped=p.lstrip(' ')\n",
    "    if striped in freq_hsr:\n",
    "      freq_hsr[striped]+=1\n",
    "    else:\n",
    "      freq_hsr[striped]=1\n"
   ]
  },
  {
   "cell_type": "code",
   "execution_count": 53,
   "metadata": {
    "colab": {
     "base_uri": "https://localhost:8080/"
    },
    "executionInfo": {
     "elapsed": 12,
     "status": "ok",
     "timestamp": 1630309033330,
     "user": {
      "displayName": "charu chaudhary",
      "photoUrl": "",
      "userId": "15964787324055720300"
     },
     "user_tz": -330
    },
    "id": "tcPGzKKqknXy",
    "outputId": "5079c481-606f-4c6e-8262-e6ea2ab798f7"
   },
   "outputs": [
    {
     "data": {
      "text/plain": [
       "{'North Indian': 6,\n",
       " 'Home Food': 1,\n",
       " 'Thalis': 1,\n",
       " 'Combo': 1,\n",
       " 'American': 3,\n",
       " 'Arabian': 1,\n",
       " 'Chinese': 4,\n",
       " 'Desserts': 3,\n",
       " 'Fast Food': 1,\n",
       " 'Mughlai': 1,\n",
       " 'South Indian': 4,\n",
       " 'Kerala': 1,\n",
       " 'Indian': 1,\n",
       " 'Rajasthani': 1,\n",
       " 'Jain': 1,\n",
       " 'Biryani': 4,\n",
       " 'Turkish': 1,\n",
       " 'Portuguese': 1,\n",
       " 'Andhra': 1,\n",
       " 'Bakery': 1,\n",
       " 'Juices': 1,\n",
       " 'Kebabs': 1,\n",
       " 'Snacks': 1,\n",
       " 'Chettinad': 1}"
      ]
     },
     "execution_count": 53,
     "metadata": {},
     "output_type": "execute_result"
    }
   ],
   "source": [
    "freq_hsr"
   ]
  },
  {
   "cell_type": "code",
   "execution_count": 54,
   "metadata": {
    "colab": {
     "base_uri": "https://localhost:8080/",
     "height": 680
    },
    "executionInfo": {
     "elapsed": 1141,
     "status": "ok",
     "timestamp": 1630309061470,
     "user": {
      "displayName": "charu chaudhary",
      "photoUrl": "",
      "userId": "15964787324055720300"
     },
     "user_tz": -330
    },
    "id": "SMu5CQ0kkpOt",
    "outputId": "0c26433d-8bb3-4e23-96b5-eaa0e5a3eec5"
   },
   "outputs": [
    {
     "data": {
      "text/plain": [
       "(array([0., 1., 2., 3., 4., 5., 6., 7.]),\n",
       " [Text(0, 0.0, '0'),\n",
       "  Text(0, 1.0, '1'),\n",
       "  Text(0, 2.0, '2'),\n",
       "  Text(0, 3.0, '3'),\n",
       "  Text(0, 4.0, '4'),\n",
       "  Text(0, 5.0, '5'),\n",
       "  Text(0, 6.0, '6'),\n",
       "  Text(0, 7.0, '7')])"
      ]
     },
     "execution_count": 54,
     "metadata": {},
     "output_type": "execute_result"
    },
    {
     "data": {
      "image/png": "[encoded data removed]",
      "text/plain": [
       "<Figure size 2000x1000 with 1 Axes>"
      ]
     },
     "metadata": {},
     "output_type": "display_data"
    }
   ],
   "source": [
    "keys = freq_hsr.keys()\n",
    "values = freq_hsr.values()\n",
    "plt.figure(figsize=(20,10))\n",
    "plt.bar(keys,values)\n",
    "plt.xticks(rotation='vertical')\n",
    "plt.yticks()"
   ]
  },
  {
   "cell_type": "code",
   "execution_count": 55,
   "metadata": {
    "colab": {
     "base_uri": "https://localhost:8080/"
    },
    "executionInfo": {
     "elapsed": 409,
     "status": "ok",
     "timestamp": 1630309069609,
     "user": {
      "displayName": "charu chaudhary",
      "photoUrl": "",
      "userId": "15964787324055720300"
     },
     "user_tz": -330
    },
    "id": "uoFKWF48k2PG",
    "outputId": "cc0c3ec6-222d-4e13-b3c3-6a9ee0d9b8b7"
   },
   "outputs": [
    {
     "name": "stdout",
     "output_type": "stream",
     "text": [
      "North Indian => 6\n",
      "Andhra => 1\n"
     ]
    }
   ],
   "source": [
    "Keymax = max(zip(freq_hsr.values(), freq_hsr.keys()))[1]\n",
    "print(Keymax, \"=>\", freq_hsr[Keymax])\n",
    "Keymax = min(zip(freq_hsr.values(), freq_hsr.keys()))[1]\n",
    "print(Keymax, \"=>\", freq_hsr[Keymax])"
   ]
  },
  {
   "cell_type": "markdown",
   "metadata": {
    "id": "bK4XN5H33wGF"
   },
   "source": [
    "In this area more resturant sell North indian cusine"
   ]
  },
  {
   "cell_type": "markdown",
   "metadata": {
    "id": "rJT8f8uM4F3-"
   },
   "source": [
    "**Koramangala Area**"
   ]
  },
  {
   "cell_type": "code",
   "execution_count": 56,
   "metadata": {
    "executionInfo": {
     "elapsed": 444,
     "status": "ok",
     "timestamp": 1630309319621,
     "user": {
      "displayName": "charu chaudhary",
      "photoUrl": "",
      "userId": "15964787324055720300"
     },
     "user_tz": -330
    },
    "id": "arnLQMdVlIl5"
   },
   "outputs": [],
   "source": [
    "from collections import Counter\n",
    "freq_Koramangala= {}\n",
    "for i in swiggy_Koramangala['Cuisine'].unique():\n",
    "  #print(type(i))\n",
    "  #print(i)\n",
    "  a=i.split(',')\n",
    "  for p in a:\n",
    "    striped=p.lstrip(' ')\n",
    "    if striped in freq_Koramangala :\n",
    "      freq_Koramangala[striped]+=1\n",
    "    else:\n",
    "      freq_Koramangala[striped]=1"
   ]
  },
  {
   "cell_type": "code",
   "execution_count": 57,
   "metadata": {
    "colab": {
     "base_uri": "https://localhost:8080/"
    },
    "executionInfo": {
     "elapsed": 415,
     "status": "ok",
     "timestamp": 1630309327640,
     "user": {
      "displayName": "charu chaudhary",
      "photoUrl": "",
      "userId": "15964787324055720300"
     },
     "user_tz": -330
    },
    "id": "VjTaRplhAf-C",
    "outputId": "6a7fd052-ab41-4821-ab48-5007d6d144a1"
   },
   "outputs": [
    {
     "data": {
      "text/plain": [
       "{'Sweets': 1,\n",
       " 'South Indian': 11,\n",
       " 'North Indian': 14,\n",
       " 'Fast Food': 9,\n",
       " 'Beverages': 5,\n",
       " 'Jain': 1,\n",
       " 'Chinese': 15,\n",
       " 'Thai': 2,\n",
       " 'Pizzas': 5,\n",
       " 'Italian': 4,\n",
       " 'Mexican': 3,\n",
       " 'Desserts': 8,\n",
       " 'Andhra': 5,\n",
       " 'Biryani': 10,\n",
       " 'Seafood': 5,\n",
       " 'Arabian': 1,\n",
       " 'Healthy Food': 3,\n",
       " 'American': 6,\n",
       " 'Snacks': 3,\n",
       " 'Mughlai': 3,\n",
       " 'Asian': 3,\n",
       " 'Continental': 3,\n",
       " 'Mediterranean': 1,\n",
       " 'Lebanese': 1,\n",
       " 'Bakery': 1,\n",
       " 'Cafe': 2,\n",
       " 'Salads': 2,\n",
       " 'Pastas': 1,\n",
       " 'Punjabi': 1,\n",
       " 'Hyderabadi': 1,\n",
       " 'Kerala': 1,\n",
       " 'Turkish': 1,\n",
       " 'Portuguese': 1,\n",
       " 'Grill': 1,\n",
       " 'Home Food': 1,\n",
       " 'Indian': 2,\n",
       " 'Ice Cream': 2,\n",
       " 'Juices': 1,\n",
       " 'Chaat': 1,\n",
       " 'Kebabs': 1,\n",
       " 'Pan-Asian': 2,\n",
       " 'Oriental': 1}"
      ]
     },
     "execution_count": 57,
     "metadata": {},
     "output_type": "execute_result"
    }
   ],
   "source": [
    "freq_Koramangala"
   ]
  },
  {
   "cell_type": "code",
   "execution_count": 58,
   "metadata": {
    "colab": {
     "base_uri": "https://localhost:8080/",
     "height": 690
    },
    "executionInfo": {
     "elapsed": 1183,
     "status": "ok",
     "timestamp": 1630309393776,
     "user": {
      "displayName": "charu chaudhary",
      "photoUrl": "",
      "userId": "15964787324055720300"
     },
     "user_tz": -330
    },
    "id": "7DzZ0-BHAh5s",
    "outputId": "fbdcdd2d-fc52-4e2b-bde2-cf72203a5675"
   },
   "outputs": [
    {
     "data": {
      "text/plain": [
       "(array([ 0.,  2.,  4.,  6.,  8., 10., 12., 14., 16.]),\n",
       " [Text(0, 0.0, '0'),\n",
       "  Text(0, 2.0, '2'),\n",
       "  Text(0, 4.0, '4'),\n",
       "  Text(0, 6.0, '6'),\n",
       "  Text(0, 8.0, '8'),\n",
       "  Text(0, 10.0, '10'),\n",
       "  Text(0, 12.0, '12'),\n",
       "  Text(0, 14.0, '14'),\n",
       "  Text(0, 16.0, '16')])"
      ]
     },
     "execution_count": 58,
     "metadata": {},
     "output_type": "execute_result"
    },
    {
     "data": {
      "image/png": "[encoded data removed]",
      "text/plain": [
       "<Figure size 2000x1000 with 1 Axes>"
      ]
     },
     "metadata": {},
     "output_type": "display_data"
    }
   ],
   "source": [
    "keys = freq_Koramangala.keys()\n",
    "values = freq_Koramangala.values()\n",
    "plt.figure(figsize=(20,10))\n",
    "plt.bar(keys,values)\n",
    "plt.xticks(rotation='vertical')\n",
    "plt.yticks()"
   ]
  },
  {
   "cell_type": "code",
   "execution_count": 59,
   "metadata": {
    "colab": {
     "base_uri": "https://localhost:8080/"
    },
    "executionInfo": {
     "elapsed": 434,
     "status": "ok",
     "timestamp": 1630309524211,
     "user": {
      "displayName": "charu chaudhary",
      "photoUrl": "",
      "userId": "15964787324055720300"
     },
     "user_tz": -330
    },
    "id": "l0NWli1xAx5T",
    "outputId": "3bd57e86-08e3-47a4-f528-c9ca02ad0969"
   },
   "outputs": [
    {
     "name": "stdout",
     "output_type": "stream",
     "text": [
      "Chinese => 15\n",
      "Arabian => 1\n"
     ]
    }
   ],
   "source": [
    "Keymax = max(zip(freq_Koramangala.values(), freq_Koramangala.keys()))[1]\n",
    "print(Keymax, \"=>\", freq_Koramangala[Keymax])\n",
    "Keymax = min(zip(freq_Koramangala.values(), freq_Koramangala.keys()))[1]\n",
    "print(Keymax, \"=>\", freq_Koramangala[Keymax])"
   ]
  },
  {
   "cell_type": "markdown",
   "metadata": {
    "id": "T5M838L836D6"
   },
   "source": [
    "In this area more resturant sell chinese cusine"
   ]
  },
  {
   "cell_type": "code",
   "execution_count": null,
   "metadata": {
    "id": "MgAKRZiBCdxw"
   },
   "outputs": [],
   "source": []
  }
 ],
 "metadata": {
  "colab": {
   "authorship_tag": "ABX9TyOSxPMqmccVXeiLdgNn02bW",
   "collapsed_sections": [],
   "name": "Swiggy Data Analysis.ipynb",
   "provenance": []
  },
  "kernelspec": {
   "display_name": "Python 3 (ipykernel)",
   "language": "python",
   "name": "python3"
  },
  "language_info": {
   "codemirror_mode": {
    "name": "ipython",
    "version": 3
   },
   "file_extension": ".py",
   "mimetype": "text/x-python",
   "name": "python",
   "nbconvert_exporter": "python",
   "pygments_lexer": "ipython3",
   "version": "3.9.13"
  }
 },
 "nbformat": 4,
 "nbformat_minor": 1
}
