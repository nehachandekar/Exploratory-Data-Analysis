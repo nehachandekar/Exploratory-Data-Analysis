{
 "cells": [
  {
   "cell_type": "code",
   "execution_count": 1,
   "id": "9cc36a6c",
   "metadata": {},
   "outputs": [
    {
     "name": "stdout",
     "output_type": "stream",
     "text": [
      "Defaulting to user installation because normal site-packages is not writeable\n",
      "Requirement already satisfied: lux in c:\\users\\nehac\\appdata\\roaming\\python\\python39\\site-packages (0.5.1)\n",
      "Requirement already satisfied: lux-api in c:\\users\\nehac\\appdata\\roaming\\python\\python39\\site-packages (from lux) (0.5.1)\n",
      "Requirement already satisfied: lux-widget in c:\\users\\nehac\\appdata\\roaming\\python\\python39\\site-packages (from lux) (0.1.11)\n",
      "Requirement already satisfied: scipy>=1.3.3 in c:\\programdata\\anaconda3\\lib\\site-packages (from lux-api->lux) (1.9.1)\n",
      "Requirement already satisfied: altair>=4.0.0 in c:\\users\\nehac\\appdata\\roaming\\python\\python39\\site-packages (from lux-api->lux) (5.2.0)\n",
      "Requirement already satisfied: numpy>=1.16.5 in c:\\users\\nehac\\appdata\\roaming\\python\\python39\\site-packages (from lux-api->lux) (1.24.4)\n",
      "Requirement already satisfied: pandas in c:\\programdata\\anaconda3\\lib\\site-packages (from lux-api->lux) (1.4.4)\n",
      "Requirement already satisfied: scikit-learn>=0.22 in c:\\users\\nehac\\appdata\\roaming\\python\\python39\\site-packages (from lux-api->lux) (1.4.0)\n",
      "Requirement already satisfied: matplotlib>=3.0.0 in c:\\users\\nehac\\appdata\\roaming\\python\\python39\\site-packages (from lux-api->lux) (3.7.2)\n",
      "Requirement already satisfied: autopep8>=1.5 in c:\\programdata\\anaconda3\\lib\\site-packages (from lux-api->lux) (1.6.0)\n",
      "Requirement already satisfied: iso3166 in c:\\users\\nehac\\appdata\\roaming\\python\\python39\\site-packages (from lux-api->lux) (2.1.1)\n",
      "Requirement already satisfied: psutil>=5.9.0 in c:\\programdata\\anaconda3\\lib\\site-packages (from lux-api->lux) (5.9.0)\n",
      "Requirement already satisfied: sh in c:\\users\\nehac\\appdata\\roaming\\python\\python39\\site-packages (from lux-api->lux) (2.0.6)\n",
      "Requirement already satisfied: notebook>=4.0.0 in c:\\programdata\\anaconda3\\lib\\site-packages (from lux-widget->lux) (6.4.12)\n",
      "Requirement already satisfied: ipywidgets>=7.5.0 in c:\\programdata\\anaconda3\\lib\\site-packages (from lux-widget->lux) (7.6.5)\n",
      "Requirement already satisfied: jinja2 in c:\\programdata\\anaconda3\\lib\\site-packages (from altair>=4.0.0->lux-api->lux) (2.11.3)\n",
      "Requirement already satisfied: jsonschema>=3.0 in c:\\programdata\\anaconda3\\lib\\site-packages (from altair>=4.0.0->lux-api->lux) (4.16.0)\n",
      "Requirement already satisfied: packaging in c:\\programdata\\anaconda3\\lib\\site-packages (from altair>=4.0.0->lux-api->lux) (21.3)\n",
      "Requirement already satisfied: toolz in c:\\programdata\\anaconda3\\lib\\site-packages (from altair>=4.0.0->lux-api->lux) (0.11.2)\n",
      "Requirement already satisfied: typing-extensions>=4.0.1 in c:\\users\\nehac\\appdata\\roaming\\python\\python39\\site-packages (from altair>=4.0.0->lux-api->lux) (4.9.0)\n",
      "Requirement already satisfied: pycodestyle>=2.8.0 in c:\\programdata\\anaconda3\\lib\\site-packages (from autopep8>=1.5->lux-api->lux) (2.8.0)\n",
      "Requirement already satisfied: toml in c:\\programdata\\anaconda3\\lib\\site-packages (from autopep8>=1.5->lux-api->lux) (0.10.2)\n",
      "Requirement already satisfied: ipykernel>=4.5.1 in c:\\programdata\\anaconda3\\lib\\site-packages (from ipywidgets>=7.5.0->lux-widget->lux) (6.15.2)\n",
      "Requirement already satisfied: ipython-genutils~=0.2.0 in c:\\programdata\\anaconda3\\lib\\site-packages (from ipywidgets>=7.5.0->lux-widget->lux) (0.2.0)\n",
      "Requirement already satisfied: traitlets>=4.3.1 in c:\\programdata\\anaconda3\\lib\\site-packages (from ipywidgets>=7.5.0->lux-widget->lux) (5.1.1)\n",
      "Requirement already satisfied: nbformat>=4.2.0 in c:\\programdata\\anaconda3\\lib\\site-packages (from ipywidgets>=7.5.0->lux-widget->lux) (5.5.0)\n",
      "Requirement already satisfied: widgetsnbextension~=3.5.0 in c:\\programdata\\anaconda3\\lib\\site-packages (from ipywidgets>=7.5.0->lux-widget->lux) (3.5.2)\n",
      "Requirement already satisfied: ipython>=4.0.0 in c:\\programdata\\anaconda3\\lib\\site-packages (from ipywidgets>=7.5.0->lux-widget->lux) (7.31.1)\n",
      "Requirement already satisfied: jupyterlab-widgets>=1.0.0 in c:\\programdata\\anaconda3\\lib\\site-packages (from ipywidgets>=7.5.0->lux-widget->lux) (1.0.0)\n",
      "Requirement already satisfied: contourpy>=1.0.1 in c:\\users\\nehac\\appdata\\roaming\\python\\python39\\site-packages (from matplotlib>=3.0.0->lux-api->lux) (1.1.0)\n",
      "Requirement already satisfied: cycler>=0.10 in c:\\users\\nehac\\appdata\\roaming\\python\\python39\\site-packages (from matplotlib>=3.0.0->lux-api->lux) (0.10.0)\n",
      "Requirement already satisfied: fonttools>=4.22.0 in c:\\programdata\\anaconda3\\lib\\site-packages (from matplotlib>=3.0.0->lux-api->lux) (4.25.0)\n",
      "Requirement already satisfied: kiwisolver>=1.0.1 in c:\\programdata\\anaconda3\\lib\\site-packages (from matplotlib>=3.0.0->lux-api->lux) (1.4.2)\n",
      "Requirement already satisfied: pillow>=6.2.0 in c:\\users\\nehac\\appdata\\roaming\\python\\python39\\site-packages (from matplotlib>=3.0.0->lux-api->lux) (8.4.0)\n",
      "Requirement already satisfied: pyparsing<3.1,>=2.3.1 in c:\\users\\nehac\\appdata\\roaming\\python\\python39\\site-packages (from matplotlib>=3.0.0->lux-api->lux) (2.4.7)\n",
      "Requirement already satisfied: python-dateutil>=2.7 in c:\\programdata\\anaconda3\\lib\\site-packages (from matplotlib>=3.0.0->lux-api->lux) (2.8.2)\n",
      "Requirement already satisfied: importlib-resources>=3.2.0 in c:\\users\\nehac\\appdata\\roaming\\python\\python39\\site-packages (from matplotlib>=3.0.0->lux-api->lux) (6.0.1)\n",
      "Requirement already satisfied: tornado>=6.1 in c:\\programdata\\anaconda3\\lib\\site-packages (from notebook>=4.0.0->lux-widget->lux) (6.1)\n",
      "Requirement already satisfied: pyzmq>=17 in c:\\programdata\\anaconda3\\lib\\site-packages (from notebook>=4.0.0->lux-widget->lux) (23.2.0)\n",
      "Requirement already satisfied: argon2-cffi in c:\\programdata\\anaconda3\\lib\\site-packages (from notebook>=4.0.0->lux-widget->lux) (21.3.0)\n",
      "Requirement already satisfied: jupyter-core>=4.6.1 in c:\\programdata\\anaconda3\\lib\\site-packages (from notebook>=4.0.0->lux-widget->lux) (4.11.1)\n",
      "Requirement already satisfied: jupyter-client>=5.3.4 in c:\\programdata\\anaconda3\\lib\\site-packages (from notebook>=4.0.0->lux-widget->lux) (7.3.4)\n",
      "Requirement already satisfied: nbconvert>=5 in c:\\programdata\\anaconda3\\lib\\site-packages (from notebook>=4.0.0->lux-widget->lux) (6.4.4)\n",
      "Requirement already satisfied: nest-asyncio>=1.5 in c:\\programdata\\anaconda3\\lib\\site-packages (from notebook>=4.0.0->lux-widget->lux) (1.5.5)\n",
      "Requirement already satisfied: Send2Trash>=1.8.0 in c:\\programdata\\anaconda3\\lib\\site-packages (from notebook>=4.0.0->lux-widget->lux) (1.8.0)\n",
      "Requirement already satisfied: terminado>=0.8.3 in c:\\programdata\\anaconda3\\lib\\site-packages (from notebook>=4.0.0->lux-widget->lux) (0.13.1)\n",
      "Requirement already satisfied: prometheus-client in c:\\programdata\\anaconda3\\lib\\site-packages (from notebook>=4.0.0->lux-widget->lux) (0.14.1)\n",
      "Requirement already satisfied: pytz>=2020.1 in c:\\programdata\\anaconda3\\lib\\site-packages (from pandas->lux-api->lux) (2022.1)\n",
      "Requirement already satisfied: joblib>=1.2.0 in c:\\users\\nehac\\appdata\\roaming\\python\\python39\\site-packages (from scikit-learn>=0.22->lux-api->lux) (1.3.2)\n",
      "Requirement already satisfied: threadpoolctl>=2.0.0 in c:\\users\\nehac\\appdata\\roaming\\python\\python39\\site-packages (from scikit-learn>=0.22->lux-api->lux) (3.2.0)\n",
      "Requirement already satisfied: six in c:\\programdata\\anaconda3\\lib\\site-packages (from cycler>=0.10->matplotlib>=3.0.0->lux-api->lux) (1.16.0)\n",
      "Requirement already satisfied: zipp>=3.1.0 in c:\\programdata\\anaconda3\\lib\\site-packages (from importlib-resources>=3.2.0->matplotlib>=3.0.0->lux-api->lux) (3.8.0)\n",
      "Requirement already satisfied: debugpy>=1.0 in c:\\programdata\\anaconda3\\lib\\site-packages (from ipykernel>=4.5.1->ipywidgets>=7.5.0->lux-widget->lux) (1.5.1)\n",
      "Requirement already satisfied: matplotlib-inline>=0.1 in c:\\programdata\\anaconda3\\lib\\site-packages (from ipykernel>=4.5.1->ipywidgets>=7.5.0->lux-widget->lux) (0.1.6)\n",
      "Requirement already satisfied: setuptools>=18.5 in c:\\programdata\\anaconda3\\lib\\site-packages (from ipython>=4.0.0->ipywidgets>=7.5.0->lux-widget->lux) (63.4.1)\n",
      "Requirement already satisfied: jedi>=0.16 in c:\\programdata\\anaconda3\\lib\\site-packages (from ipython>=4.0.0->ipywidgets>=7.5.0->lux-widget->lux) (0.18.1)\n",
      "Requirement already satisfied: decorator in c:\\programdata\\anaconda3\\lib\\site-packages (from ipython>=4.0.0->ipywidgets>=7.5.0->lux-widget->lux) (5.1.1)\n",
      "Requirement already satisfied: pickleshare in c:\\programdata\\anaconda3\\lib\\site-packages (from ipython>=4.0.0->ipywidgets>=7.5.0->lux-widget->lux) (0.7.5)\n",
      "Requirement already satisfied: prompt-toolkit!=3.0.0,!=3.0.1,<3.1.0,>=2.0.0 in c:\\programdata\\anaconda3\\lib\\site-packages (from ipython>=4.0.0->ipywidgets>=7.5.0->lux-widget->lux) (3.0.20)\n",
      "Requirement already satisfied: pygments in c:\\programdata\\anaconda3\\lib\\site-packages (from ipython>=4.0.0->ipywidgets>=7.5.0->lux-widget->lux) (2.11.2)\n",
      "Requirement already satisfied: backcall in c:\\programdata\\anaconda3\\lib\\site-packages (from ipython>=4.0.0->ipywidgets>=7.5.0->lux-widget->lux) (0.2.0)\n",
      "Requirement already satisfied: colorama in c:\\programdata\\anaconda3\\lib\\site-packages (from ipython>=4.0.0->ipywidgets>=7.5.0->lux-widget->lux) (0.4.5)\n",
      "Requirement already satisfied: attrs>=17.4.0 in c:\\programdata\\anaconda3\\lib\\site-packages (from jsonschema>=3.0->altair>=4.0.0->lux-api->lux) (21.4.0)\n",
      "Requirement already satisfied: pyrsistent!=0.17.0,!=0.17.1,!=0.17.2,>=0.14.0 in c:\\programdata\\anaconda3\\lib\\site-packages (from jsonschema>=3.0->altair>=4.0.0->lux-api->lux) (0.18.0)\n",
      "Requirement already satisfied: entrypoints in c:\\programdata\\anaconda3\\lib\\site-packages (from jupyter-client>=5.3.4->notebook>=4.0.0->lux-widget->lux) (0.4)\n",
      "Requirement already satisfied: pywin32>=1.0 in c:\\programdata\\anaconda3\\lib\\site-packages (from jupyter-core>=4.6.1->notebook>=4.0.0->lux-widget->lux) (302)\n",
      "Requirement already satisfied: mistune<2,>=0.8.1 in c:\\programdata\\anaconda3\\lib\\site-packages (from nbconvert>=5->notebook>=4.0.0->lux-widget->lux) (0.8.4)\n",
      "Requirement already satisfied: jupyterlab-pygments in c:\\programdata\\anaconda3\\lib\\site-packages (from nbconvert>=5->notebook>=4.0.0->lux-widget->lux) (0.1.2)\n",
      "Requirement already satisfied: bleach in c:\\programdata\\anaconda3\\lib\\site-packages (from nbconvert>=5->notebook>=4.0.0->lux-widget->lux) (4.1.0)\n",
      "Requirement already satisfied: pandocfilters>=1.4.1 in c:\\programdata\\anaconda3\\lib\\site-packages (from nbconvert>=5->notebook>=4.0.0->lux-widget->lux) (1.5.0)\n",
      "Requirement already satisfied: testpath in c:\\programdata\\anaconda3\\lib\\site-packages (from nbconvert>=5->notebook>=4.0.0->lux-widget->lux) (0.6.0)\n",
      "Requirement already satisfied: defusedxml in c:\\programdata\\anaconda3\\lib\\site-packages (from nbconvert>=5->notebook>=4.0.0->lux-widget->lux) (0.7.1)\n",
      "Requirement already satisfied: beautifulsoup4 in c:\\programdata\\anaconda3\\lib\\site-packages (from nbconvert>=5->notebook>=4.0.0->lux-widget->lux) (4.11.1)\n",
      "Requirement already satisfied: nbclient<0.6.0,>=0.5.0 in c:\\programdata\\anaconda3\\lib\\site-packages (from nbconvert>=5->notebook>=4.0.0->lux-widget->lux) (0.5.13)\n",
      "Requirement already satisfied: MarkupSafe>=0.23 in c:\\programdata\\anaconda3\\lib\\site-packages (from jinja2->altair>=4.0.0->lux-api->lux) (2.0.1)\n",
      "Requirement already satisfied: fastjsonschema in c:\\programdata\\anaconda3\\lib\\site-packages (from nbformat>=4.2.0->ipywidgets>=7.5.0->lux-widget->lux) (2.16.2)\n",
      "Requirement already satisfied: pywinpty>=1.1.0 in c:\\programdata\\anaconda3\\lib\\site-packages (from terminado>=0.8.3->notebook>=4.0.0->lux-widget->lux) (2.0.2)\n",
      "Requirement already satisfied: argon2-cffi-bindings in c:\\programdata\\anaconda3\\lib\\site-packages (from argon2-cffi->notebook>=4.0.0->lux-widget->lux) (21.2.0)\n",
      "Requirement already satisfied: parso<0.9.0,>=0.8.0 in c:\\programdata\\anaconda3\\lib\\site-packages (from jedi>=0.16->ipython>=4.0.0->ipywidgets>=7.5.0->lux-widget->lux) (0.8.3)\n",
      "Requirement already satisfied: wcwidth in c:\\programdata\\anaconda3\\lib\\site-packages (from prompt-toolkit!=3.0.0,!=3.0.1,<3.1.0,>=2.0.0->ipython>=4.0.0->ipywidgets>=7.5.0->lux-widget->lux) (0.2.5)\n",
      "Requirement already satisfied: cffi>=1.0.1 in c:\\programdata\\anaconda3\\lib\\site-packages (from argon2-cffi-bindings->argon2-cffi->notebook>=4.0.0->lux-widget->lux) (1.15.1)\n",
      "Requirement already satisfied: soupsieve>1.2 in c:\\programdata\\anaconda3\\lib\\site-packages (from beautifulsoup4->nbconvert>=5->notebook>=4.0.0->lux-widget->lux) (2.3.1)\n",
      "Requirement already satisfied: webencodings in c:\\programdata\\anaconda3\\lib\\site-packages (from bleach->nbconvert>=5->notebook>=4.0.0->lux-widget->lux) (0.5.1)\n",
      "Requirement already satisfied: pycparser in c:\\programdata\\anaconda3\\lib\\site-packages (from cffi>=1.0.1->argon2-cffi-bindings->argon2-cffi->notebook>=4.0.0->lux-widget->lux) (2.21)\n"
     ]
    }
   ],
   "source": [
    "! pip install lux                     \n"
   ]
  },
  {
   "cell_type": "code",
   "execution_count": 2,
   "id": "7b9fe6d1",
   "metadata": {},
   "outputs": [],
   "source": [
    "# lux    ---------------        (used for automated data visualization and exploration)"
   ]
  },
  {
   "cell_type": "code",
   "execution_count": 3,
   "id": "fdf24a90",
   "metadata": {},
   "outputs": [],
   "source": [
    "import numpy as np\n",
    "import pandas as pd\n",
    "import matplotlib as mlt\n",
    "import seaborn as sns\n",
    "import os\n",
    "import lux\n",
    "import matplotlib.pyplot as plt\n",
    "\n",
    "import warnings\n",
    "warnings.filterwarnings('ignore')"
   ]
  },
  {
   "cell_type": "code",
   "execution_count": 4,
   "id": "a78d5037",
   "metadata": {},
   "outputs": [
    {
     "data": {
      "text/html": [
       " <style>\n",
       ".output_png {\n",
       "    display: table-cell;\n",
       "    text-align: center;\n",
       "    vertical-align: middle;\n",
       "}\n",
       "</style> "
      ],
      "text/plain": [
       "<IPython.core.display.HTML object>"
      ]
     },
     "execution_count": 4,
     "metadata": {},
     "output_type": "execute_result"
    }
   ],
   "source": [
    "# TO center every figure in the notebook.\n",
    "#from: https://stackoverflow.com/questions/18380168/center-output-plots-in-the-notebook\n",
    "\n",
    "from IPython.core.display import HTML as Center\n",
    "\n",
    "Center(\"\"\" <style>\n",
    ".output_png {\n",
    "    display: table-cell;\n",
    "    text-align: center;\n",
    "    vertical-align: middle;\n",
    "}\n",
    "</style> \"\"\")\n"
   ]
  },
  {
   "cell_type": "code",
   "execution_count": 5,
   "id": "4513852c",
   "metadata": {},
   "outputs": [],
   "source": [
    "df = pd.read_csv(\"100 Sales Records.csv\")"
   ]
  },
  {
   "cell_type": "code",
   "execution_count": 6,
   "id": "ca3503b2",
   "metadata": {},
   "outputs": [
    {
     "data": {
      "application/vnd.jupyter.widget-view+json": {
       "model_id": "f25d26d9524c4986868312c5f66db83e",
       "version_major": 2,
       "version_minor": 0
      },
      "text/plain": [
       "Button(description='Toggle Pandas/Lux', layout=Layout(top='5px', width='140px'), style=ButtonStyle())"
      ]
     },
     "metadata": {},
     "output_type": "display_data"
    },
    {
     "data": {
      "application/vnd.jupyter.widget-view+json": {
       "model_id": "406836266dc14a53b18ed97f0681bcb4",
       "version_major": 2,
       "version_minor": 0
      },
      "text/plain": [
       "Output()"
      ]
     },
     "metadata": {},
     "output_type": "display_data"
    }
   ],
   "source": [
    "df"
   ]
  },
  {
   "cell_type": "code",
   "execution_count": 7,
   "id": "e6d1b832",
   "metadata": {
    "scrolled": true
   },
   "outputs": [
    {
     "data": {
      "application/vnd.jupyter.widget-view+json": {
       "model_id": "f584e874c8b54910a872c3f27d67c980",
       "version_major": 2,
       "version_minor": 0
      },
      "text/plain": [
       "Button(description='Toggle Pandas/Lux', layout=Layout(top='5px', width='140px'), style=ButtonStyle())"
      ]
     },
     "metadata": {},
     "output_type": "display_data"
    },
    {
     "data": {
      "application/vnd.jupyter.widget-view+json": {
       "model_id": "18a430c3ca664a75b8e0cbcc2da8f6b7",
       "version_major": 2,
       "version_minor": 0
      },
      "text/plain": [
       "Output()"
      ]
     },
     "metadata": {},
     "output_type": "display_data"
    }
   ],
   "source": [
    "df.nunique()"
   ]
  },
  {
   "cell_type": "code",
   "execution_count": 8,
   "id": "add0e1d0",
   "metadata": {
    "scrolled": true
   },
   "outputs": [
    {
     "data": {
      "application/vnd.jupyter.widget-view+json": {
       "model_id": "d9a1c73d1ce24070b8d42312711dc262",
       "version_major": 2,
       "version_minor": 0
      },
      "text/plain": [
       "Button(description='Toggle Pandas/Lux', layout=Layout(top='5px', width='140px'), style=ButtonStyle())"
      ]
     },
     "metadata": {},
     "output_type": "display_data"
    },
    {
     "data": {
      "application/vnd.jupyter.widget-view+json": {
       "model_id": "24fb504053f6484a8a95e33cff4e894c",
       "version_major": 2,
       "version_minor": 0
      },
      "text/plain": [
       "Output()"
      ]
     },
     "metadata": {},
     "output_type": "display_data"
    }
   ],
   "source": [
    "df.describe()"
   ]
  },
  {
   "cell_type": "code",
   "execution_count": 9,
   "id": "9fe0bb28",
   "metadata": {},
   "outputs": [
    {
     "name": "stdout",
     "output_type": "stream",
     "text": [
      "<class 'lux.core.frame.LuxDataFrame'>\n",
      "RangeIndex: 100 entries, 0 to 99\n",
      "Data columns (total 14 columns):\n",
      " #   Column          Non-Null Count  Dtype  \n",
      "---  ------          --------------  -----  \n",
      " 0   Region          100 non-null    object \n",
      " 1   Country         100 non-null    object \n",
      " 2   Item Type       100 non-null    object \n",
      " 3   Sales Channel   100 non-null    object \n",
      " 4   Order Priority  100 non-null    object \n",
      " 5   Order Date      100 non-null    object \n",
      " 6   Order ID        100 non-null    int64  \n",
      " 7   Ship Date       100 non-null    object \n",
      " 8   Units Sold      100 non-null    int64  \n",
      " 9   Unit Price      100 non-null    float64\n",
      " 10  Unit Cost       100 non-null    float64\n",
      " 11  Total Revenue   100 non-null    float64\n",
      " 12  Total Cost      100 non-null    float64\n",
      " 13  Total Profit    100 non-null    float64\n",
      "dtypes: float64(5), int64(2), object(7)\n",
      "memory usage: 11.1+ KB\n"
     ]
    }
   ],
   "source": [
    "df.info()"
   ]
  },
  {
   "cell_type": "code",
   "execution_count": 10,
   "id": "91761b64",
   "metadata": {
    "scrolled": true
   },
   "outputs": [
    {
     "data": {
      "text/plain": [
       "Index(['Region', 'Country', 'Item Type', 'Sales Channel', 'Order Priority',\n",
       "       'Order Date', 'Order ID', 'Ship Date', 'Units Sold', 'Unit Price',\n",
       "       'Unit Cost', 'Total Revenue', 'Total Cost', 'Total Profit'],\n",
       "      dtype='object')"
      ]
     },
     "execution_count": 10,
     "metadata": {},
     "output_type": "execute_result"
    }
   ],
   "source": [
    "df.columns"
   ]
  },
  {
   "cell_type": "code",
   "execution_count": 11,
   "id": "e04eae01",
   "metadata": {},
   "outputs": [
    {
     "data": {
      "text/plain": [
       "(100, 14)"
      ]
     },
     "execution_count": 11,
     "metadata": {},
     "output_type": "execute_result"
    }
   ],
   "source": [
    "df.shape \n",
    "# 14 Columns\n",
    "# 100 Rows"
   ]
  },
  {
   "cell_type": "code",
   "execution_count": 12,
   "id": "0b5d26a1",
   "metadata": {},
   "outputs": [
    {
     "data": {
      "text/plain": [
       "array(['Australia and Oceania', 'Central America and the Caribbean',\n",
       "       'Europe', 'Sub-Saharan Africa', 'Asia',\n",
       "       'Middle East and North Africa', 'North America'], dtype='<U33')"
      ]
     },
     "execution_count": 12,
     "metadata": {},
     "output_type": "execute_result"
    }
   ],
   "source": [
    "df[\"Region\"].unique()"
   ]
  },
  {
   "cell_type": "code",
   "execution_count": 13,
   "id": "d1ce73ec",
   "metadata": {},
   "outputs": [
    {
     "data": {
      "text/plain": [
       "7"
      ]
     },
     "execution_count": 13,
     "metadata": {},
     "output_type": "execute_result"
    }
   ],
   "source": [
    "df[\"Region\"].nunique()"
   ]
  },
  {
   "cell_type": "code",
   "execution_count": 14,
   "id": "23dfb627",
   "metadata": {
    "scrolled": true
   },
   "outputs": [
    {
     "data": {
      "application/vnd.jupyter.widget-view+json": {
       "model_id": "c9d07d07d57d4bab82d250850b92773c",
       "version_major": 2,
       "version_minor": 0
      },
      "text/plain": [
       "Button(description='Toggle Pandas/Lux', layout=Layout(top='5px', width='140px'), style=ButtonStyle())"
      ]
     },
     "metadata": {},
     "output_type": "display_data"
    },
    {
     "data": {
      "application/vnd.jupyter.widget-view+json": {
       "model_id": "4f2b32033c1b47bc81f46a45f1ab568e",
       "version_major": 2,
       "version_minor": 0
      },
      "text/plain": [
       "Output()"
      ]
     },
     "metadata": {},
     "output_type": "display_data"
    }
   ],
   "source": [
    "df[\"Region\"].value_counts()"
   ]
  },
  {
   "cell_type": "markdown",
   "id": "82fd459b",
   "metadata": {},
   "source": [
    "**Maximum orders are from Sub-Saharan Africa Region. Total= 36 orders.**"
   ]
  },
  {
   "cell_type": "code",
   "execution_count": 15,
   "id": "6776569a",
   "metadata": {},
   "outputs": [
    {
     "data": {
      "application/vnd.jupyter.widget-view+json": {
       "model_id": "b546f9cd3e6b48f2919db11e3e8dfc42",
       "version_major": 2,
       "version_minor": 0
      },
      "text/plain": [
       "Button(description='Toggle Pandas/Lux', layout=Layout(top='5px', width='140px'), style=ButtonStyle())"
      ]
     },
     "metadata": {},
     "output_type": "display_data"
    },
    {
     "data": {
      "application/vnd.jupyter.widget-view+json": {
       "model_id": "7831bb8635e04d7fa0dea0b398525b86",
       "version_major": 2,
       "version_minor": 0
      },
      "text/plain": [
       "Output()"
      ]
     },
     "metadata": {},
     "output_type": "display_data"
    }
   ],
   "source": [
    "df[(df[\"Region\"]==\"Sub-Saharan Africa\") & (df[\"Sales Channel\"]==\"Offline\")]"
   ]
  },
  {
   "cell_type": "markdown",
   "id": "6ad7761d",
   "metadata": {},
   "source": [
    " **21/36** orders from _\"Sub-Saharan Africa\"_ are **online**.\n",
    " \n",
    " **15/36** are **offline**."
   ]
  },
  {
   "cell_type": "code",
   "execution_count": 16,
   "id": "934d921e",
   "metadata": {},
   "outputs": [
    {
     "data": {
      "application/vnd.jupyter.widget-view+json": {
       "model_id": "92da030b73b244a6826af5de766c0023",
       "version_major": 2,
       "version_minor": 0
      },
      "text/plain": [
       "Button(description='Toggle Pandas/Lux', layout=Layout(top='5px', width='140px'), style=ButtonStyle())"
      ]
     },
     "metadata": {},
     "output_type": "display_data"
    },
    {
     "data": {
      "application/vnd.jupyter.widget-view+json": {
       "model_id": "fc40266472a34fa5bc8274caf22a6ac4",
       "version_major": 2,
       "version_minor": 0
      },
      "text/plain": [
       "Output()"
      ]
     },
     "metadata": {},
     "output_type": "display_data"
    }
   ],
   "source": [
    "df[(df[\"Region\"]==\"Sub-Saharan Africa\") & (df[\"Sales Channel\"]==\"Offline\")].nunique()"
   ]
  },
  {
   "cell_type": "code",
   "execution_count": 17,
   "id": "c9d973d7",
   "metadata": {},
   "outputs": [
    {
     "data": {
      "text/plain": [
       "(100, 14)"
      ]
     },
     "execution_count": 17,
     "metadata": {},
     "output_type": "execute_result"
    }
   ],
   "source": [
    "# Shape of the data set\n",
    "df.shape"
   ]
  },
  {
   "cell_type": "code",
   "execution_count": 18,
   "id": "2f81b797",
   "metadata": {},
   "outputs": [
    {
     "data": {
      "text/plain": [
       "array(['Tuvalu', 'Grenada', 'Russia', 'Sao Tome and Principe', 'Rwanda',\n",
       "       'Solomon Islands', 'Angola', 'Burkina Faso',\n",
       "       'Republic of the Congo', 'Senegal', 'Kyrgyzstan', 'Cape Verde',\n",
       "       'Bangladesh', 'Honduras', 'Mongolia', 'Bulgaria', 'Sri Lanka',\n",
       "       'Cameroon', 'Turkmenistan', 'East Timor', 'Norway', 'Portugal',\n",
       "       'New Zealand', 'Moldova ', 'France', 'Kiribati', 'Mali',\n",
       "       'The Gambia', 'Switzerland', 'South Sudan', 'Australia', 'Myanmar',\n",
       "       'Djibouti', 'Costa Rica', 'Syria', 'Brunei', 'Niger', 'Azerbaijan',\n",
       "       'Slovakia', 'Comoros', 'Iceland', 'Macedonia', 'Mauritania',\n",
       "       'Albania', 'Lesotho', 'Saudi Arabia', 'Sierra Leone',\n",
       "       \"Cote d'Ivoire\", 'Fiji', 'Austria', 'United Kingdom', 'San Marino',\n",
       "       'Libya', 'Haiti', 'Gabon', 'Belize', 'Lithuania', 'Madagascar',\n",
       "       'Democratic Republic of the Congo', 'Pakistan', 'Mexico',\n",
       "       'Federated States of Micronesia', 'Laos', 'Monaco', 'Samoa ',\n",
       "       'Spain', 'Lebanon', 'Iran', 'Zambia', 'Kenya', 'Kuwait',\n",
       "       'Slovenia', 'Romania', 'Nicaragua', 'Malaysia', 'Mozambique'],\n",
       "      dtype='<U32')"
      ]
     },
     "execution_count": 18,
     "metadata": {},
     "output_type": "execute_result"
    }
   ],
   "source": [
    "# Country unique names.\n",
    "df[\"Country\"].unique()"
   ]
  },
  {
   "cell_type": "code",
   "execution_count": 19,
   "id": "1472e051",
   "metadata": {},
   "outputs": [
    {
     "data": {
      "text/plain": [
       "76"
      ]
     },
     "execution_count": 19,
     "metadata": {},
     "output_type": "execute_result"
    }
   ],
   "source": [
    "# Total countries.\n",
    "df[\"Country\"].nunique() "
   ]
  },
  {
   "cell_type": "code",
   "execution_count": 20,
   "id": "3b2daf1e",
   "metadata": {},
   "outputs": [
    {
     "data": {
      "application/vnd.jupyter.widget-view+json": {
       "model_id": "46eb32748ae24a09a539a659290bd052",
       "version_major": 2,
       "version_minor": 0
      },
      "text/plain": [
       "Button(description='Toggle Pandas/Lux', layout=Layout(top='5px', width='140px'), style=ButtonStyle())"
      ]
     },
     "metadata": {},
     "output_type": "display_data"
    },
    {
     "data": {
      "application/vnd.jupyter.widget-view+json": {
       "model_id": "6847ad30359c402eb957eaa2c520d61a",
       "version_major": 2,
       "version_minor": 0
      },
      "text/plain": [
       "Output()"
      ]
     },
     "metadata": {},
     "output_type": "display_data"
    }
   ],
   "source": [
    "# item types\n",
    "df[\"Item Type\"]"
   ]
  },
  {
   "cell_type": "code",
   "execution_count": 21,
   "id": "a48bbdba",
   "metadata": {},
   "outputs": [
    {
     "data": {
      "text/plain": [
       "array(['Baby Food', 'Cereal', 'Office Supplies', 'Fruits', 'Household',\n",
       "       'Vegetables', 'Personal Care', 'Clothes', 'Cosmetics', 'Beverages',\n",
       "       'Meat', 'Snacks'], dtype='<U15')"
      ]
     },
     "execution_count": 21,
     "metadata": {},
     "output_type": "execute_result"
    }
   ],
   "source": [
    "df[\"Item Type\"].unique()"
   ]
  },
  {
   "cell_type": "code",
   "execution_count": 22,
   "id": "cb0f93ce",
   "metadata": {},
   "outputs": [
    {
     "data": {
      "text/plain": [
       "12"
      ]
     },
     "execution_count": 22,
     "metadata": {},
     "output_type": "execute_result"
    }
   ],
   "source": [
    "df[\"Item Type\"].nunique() \n"
   ]
  },
  {
   "cell_type": "markdown",
   "id": "41ad51cd",
   "metadata": {},
   "source": [
    " There are 12 different types of items. \n",
    " - Most items belong to the clothes and cosmetics category. 13 each. Total count = 26/100\n",
    " - Least items belong to vegetables category. Only 6."
   ]
  },
  {
   "cell_type": "code",
   "execution_count": 23,
   "id": "daa3af2a",
   "metadata": {},
   "outputs": [
    {
     "data": {
      "text/plain": [
       "array(['Offline', 'Online'], dtype='<U7')"
      ]
     },
     "execution_count": 23,
     "metadata": {},
     "output_type": "execute_result"
    }
   ],
   "source": [
    "df[\"Sales Channel\"].unique()"
   ]
  },
  {
   "cell_type": "code",
   "execution_count": 24,
   "id": "31975af9",
   "metadata": {},
   "outputs": [
    {
     "data": {
      "application/vnd.jupyter.widget-view+json": {
       "model_id": "f78fada7103e4bd3b121c5549e317652",
       "version_major": 2,
       "version_minor": 0
      },
      "text/plain": [
       "Button(description='Toggle Pandas/Lux', layout=Layout(top='5px', width='140px'), style=ButtonStyle())"
      ]
     },
     "metadata": {},
     "output_type": "display_data"
    },
    {
     "data": {
      "application/vnd.jupyter.widget-view+json": {
       "model_id": "9dd754b7337440579473634175376b94",
       "version_major": 2,
       "version_minor": 0
      },
      "text/plain": [
       "Output()"
      ]
     },
     "metadata": {},
     "output_type": "display_data"
    }
   ],
   "source": [
    "df[\"Sales Channel\"].value_counts()"
   ]
  },
  {
   "cell_type": "markdown",
   "id": "23e540b8",
   "metadata": {},
   "source": [
    " Total sales made online and offline are same. ie. 50 - 50 out of 100."
   ]
  },
  {
   "cell_type": "code",
   "execution_count": 25,
   "id": "e21b007d",
   "metadata": {},
   "outputs": [
    {
     "data": {
      "text/plain": [
       "array(['H', 'C', 'L', 'M'], dtype='<U1')"
      ]
     },
     "execution_count": 25,
     "metadata": {},
     "output_type": "execute_result"
    }
   ],
   "source": [
    "df[\"Order Priority\"].unique()"
   ]
  },
  {
   "cell_type": "markdown",
   "id": "5f6426c0",
   "metadata": {},
   "source": [
    "- Critical,\n",
    "- High,  \n",
    "- Medium, \n",
    "- Low"
   ]
  },
  {
   "cell_type": "code",
   "execution_count": 26,
   "id": "af804170",
   "metadata": {},
   "outputs": [
    {
     "data": {
      "application/vnd.jupyter.widget-view+json": {
       "model_id": "40416e9a95be470ea7e221bcf0654adf",
       "version_major": 2,
       "version_minor": 0
      },
      "text/plain": [
       "Button(description='Toggle Pandas/Lux', layout=Layout(top='5px', width='140px'), style=ButtonStyle())"
      ]
     },
     "metadata": {},
     "output_type": "display_data"
    },
    {
     "data": {
      "application/vnd.jupyter.widget-view+json": {
       "model_id": "fb5f3ffc58014feb8f2a505ddc9506d7",
       "version_major": 2,
       "version_minor": 0
      },
      "text/plain": [
       "Output()"
      ]
     },
     "metadata": {},
     "output_type": "display_data"
    }
   ],
   "source": [
    "df[\"Order Priority\"].value_counts()"
   ]
  },
  {
   "cell_type": "code",
   "execution_count": 27,
   "id": "b8030a5e",
   "metadata": {},
   "outputs": [
    {
     "data": {
      "text/plain": [
       "<bound method DataFrame.info of                                Region                Country        Item Type  \\\n",
       "0               Australia and Oceania                 Tuvalu        Baby Food   \n",
       "1   Central America and the Caribbean                Grenada           Cereal   \n",
       "2                              Europe                 Russia  Office Supplies   \n",
       "3                  Sub-Saharan Africa  Sao Tome and Principe           Fruits   \n",
       "4                  Sub-Saharan Africa                 Rwanda  Office Supplies   \n",
       "..                                ...                    ...              ...   \n",
       "95                 Sub-Saharan Africa                   Mali          Clothes   \n",
       "96                               Asia               Malaysia           Fruits   \n",
       "97                 Sub-Saharan Africa           Sierra Leone       Vegetables   \n",
       "98                      North America                 Mexico    Personal Care   \n",
       "99                 Sub-Saharan Africa             Mozambique        Household   \n",
       "\n",
       "   Sales Channel Order Priority  Order Date   Order ID   Ship Date  \\\n",
       "0        Offline              H   5/28/2010  669165933   6/27/2010   \n",
       "1         Online              C   8/22/2012  963881480   9/15/2012   \n",
       "2        Offline              L    5/2/2014  341417157    5/8/2014   \n",
       "3         Online              C   6/20/2014  514321792    7/5/2014   \n",
       "4        Offline              L    2/1/2013  115456712    2/6/2013   \n",
       "..           ...            ...         ...        ...         ...   \n",
       "95        Online              M   7/26/2011  512878119    9/3/2011   \n",
       "96       Offline              L  11/11/2011  810711038  12/28/2011   \n",
       "97       Offline              C    6/1/2016  728815257   6/29/2016   \n",
       "98       Offline              M   7/30/2015  559427106    8/8/2015   \n",
       "99       Offline              L   2/10/2012  665095412   2/15/2012   \n",
       "\n",
       "    Units Sold  Unit Price  Unit Cost  Total Revenue  Total Cost  Total Profit  \n",
       "0         9925      255.28     159.42     2533654.00  1582243.50     951410.50  \n",
       "1         2804      205.70     117.11      576782.80   328376.44     248406.36  \n",
       "2         1779      651.21     524.96     1158502.59   933903.84     224598.75  \n",
       "3         8102        9.33       6.92       75591.66    56065.84      19525.82  \n",
       "4         5062      651.21     524.96     3296425.02  2657347.52     639077.50  \n",
       "..         ...         ...        ...            ...         ...           ...  \n",
       "95         888      109.28      35.84       97040.64    31825.92      65214.72  \n",
       "96        6267        9.33       6.92       58471.11    43367.64      15103.47  \n",
       "97        1485      154.06      90.93      228779.10   135031.05      93748.05  \n",
       "98        5767       81.73      56.67      471336.91   326815.89     144521.02  \n",
       "99        5367      668.27     502.54     3586605.09  2697132.18     889472.91  \n",
       "\n",
       "[100 rows x 14 columns]>"
      ]
     },
     "execution_count": 27,
     "metadata": {},
     "output_type": "execute_result"
    }
   ],
   "source": [
    "df.info"
   ]
  },
  {
   "cell_type": "code",
   "execution_count": 28,
   "id": "f44a9f61",
   "metadata": {},
   "outputs": [
    {
     "name": "stdout",
     "output_type": "stream",
     "text": [
      "<class 'lux.core.frame.LuxDataFrame'>\n",
      "RangeIndex: 100 entries, 0 to 99\n",
      "Data columns (total 14 columns):\n",
      " #   Column          Non-Null Count  Dtype  \n",
      "---  ------          --------------  -----  \n",
      " 0   Region          100 non-null    object \n",
      " 1   Country         100 non-null    object \n",
      " 2   Item Type       100 non-null    object \n",
      " 3   Sales Channel   100 non-null    object \n",
      " 4   Order Priority  100 non-null    object \n",
      " 5   Order Date      100 non-null    object \n",
      " 6   Order ID        100 non-null    int64  \n",
      " 7   Ship Date       100 non-null    object \n",
      " 8   Units Sold      100 non-null    int64  \n",
      " 9   Unit Price      100 non-null    float64\n",
      " 10  Unit Cost       100 non-null    float64\n",
      " 11  Total Revenue   100 non-null    float64\n",
      " 12  Total Cost      100 non-null    float64\n",
      " 13  Total Profit    100 non-null    float64\n",
      "dtypes: float64(5), int64(2), object(7)\n",
      "memory usage: 11.1+ KB\n"
     ]
    }
   ],
   "source": [
    "df.info(max_cols=len(df))\n"
   ]
  },
  {
   "cell_type": "code",
   "execution_count": 29,
   "id": "2485e137",
   "metadata": {},
   "outputs": [
    {
     "data": {
      "application/vnd.jupyter.widget-view+json": {
       "model_id": "f5d396e661be4221b4e3c682abf3cba2",
       "version_major": 2,
       "version_minor": 0
      },
      "text/plain": [
       "Button(description='Toggle Pandas/Lux', layout=Layout(top='5px', width='140px'), style=ButtonStyle())"
      ]
     },
     "metadata": {},
     "output_type": "display_data"
    },
    {
     "data": {
      "application/vnd.jupyter.widget-view+json": {
       "model_id": "cb207d5e7f9b4fcb8673867e01699905",
       "version_major": 2,
       "version_minor": 0
      },
      "text/plain": [
       "Output()"
      ]
     },
     "metadata": {},
     "output_type": "display_data"
    }
   ],
   "source": [
    "df[\"Order Date\"]"
   ]
  },
  {
   "cell_type": "code",
   "execution_count": 30,
   "id": "cb092e59",
   "metadata": {},
   "outputs": [
    {
     "data": {
      "text/plain": [
       "100"
      ]
     },
     "execution_count": 30,
     "metadata": {},
     "output_type": "execute_result"
    }
   ],
   "source": [
    "df[\"Order ID\"].nunique()\n"
   ]
  },
  {
   "cell_type": "markdown",
   "id": "68533552",
   "metadata": {},
   "source": [
    " All customers are unique/different."
   ]
  },
  {
   "cell_type": "code",
   "execution_count": 31,
   "id": "beb05014",
   "metadata": {},
   "outputs": [
    {
     "data": {
      "application/vnd.jupyter.widget-view+json": {
       "model_id": "4ed2092d77104456bad17af1382ad85d",
       "version_major": 2,
       "version_minor": 0
      },
      "text/plain": [
       "Button(description='Toggle Pandas/Lux', layout=Layout(top='5px', width='140px'), style=ButtonStyle())"
      ]
     },
     "metadata": {},
     "output_type": "display_data"
    },
    {
     "data": {
      "application/vnd.jupyter.widget-view+json": {
       "model_id": "529f48b55622475c96bff517d51e3a0c",
       "version_major": 2,
       "version_minor": 0
      },
      "text/plain": [
       "Output()"
      ]
     },
     "metadata": {},
     "output_type": "display_data"
    }
   ],
   "source": [
    "df[\"Ship Date\"]"
   ]
  },
  {
   "cell_type": "code",
   "execution_count": 32,
   "id": "946da93c",
   "metadata": {},
   "outputs": [
    {
     "data": {
      "application/vnd.jupyter.widget-view+json": {
       "model_id": "1878fddde0bc45f0b2c851917c2d2834",
       "version_major": 2,
       "version_minor": 0
      },
      "text/plain": [
       "Button(description='Toggle Pandas/Lux', layout=Layout(top='5px', width='140px'), style=ButtonStyle())"
      ]
     },
     "metadata": {},
     "output_type": "display_data"
    },
    {
     "data": {
      "application/vnd.jupyter.widget-view+json": {
       "model_id": "8381cb05b28f47fd87d6500e433ca8c3",
       "version_major": 2,
       "version_minor": 0
      },
      "text/plain": [
       "Output()"
      ]
     },
     "metadata": {},
     "output_type": "display_data"
    }
   ],
   "source": [
    "df[\"Units Sold\"]"
   ]
  },
  {
   "cell_type": "code",
   "execution_count": 33,
   "id": "eda8d13e",
   "metadata": {},
   "outputs": [
    {
     "data": {
      "application/vnd.jupyter.widget-view+json": {
       "model_id": "3dfe5acceae54a8486ca8d75591f9d56",
       "version_major": 2,
       "version_minor": 0
      },
      "text/plain": [
       "Button(description='Toggle Pandas/Lux', layout=Layout(top='5px', width='140px'), style=ButtonStyle())"
      ]
     },
     "metadata": {},
     "output_type": "display_data"
    },
    {
     "data": {
      "application/vnd.jupyter.widget-view+json": {
       "model_id": "9e3a4f946e1c452db4894b1469da360e",
       "version_major": 2,
       "version_minor": 0
      },
      "text/plain": [
       "Output()"
      ]
     },
     "metadata": {},
     "output_type": "display_data"
    }
   ],
   "source": [
    "# Sorting values by maximum \"Units sold\" , in descending order.\n",
    "df.sort_values(\"Units Sold\", ascending = False)"
   ]
  },
  {
   "cell_type": "code",
   "execution_count": 34,
   "id": "dca95aee",
   "metadata": {},
   "outputs": [
    {
     "data": {
      "application/vnd.jupyter.widget-view+json": {
       "model_id": "ee8f6b6aaf4e4524abbb8c5552344cc7",
       "version_major": 2,
       "version_minor": 0
      },
      "text/plain": [
       "Button(description='Toggle Pandas/Lux', layout=Layout(top='5px', width='140px'), style=ButtonStyle())"
      ]
     },
     "metadata": {},
     "output_type": "display_data"
    },
    {
     "data": {
      "application/vnd.jupyter.widget-view+json": {
       "model_id": "802b9c33f3844649a0b8cc0311a66c2b",
       "version_major": 2,
       "version_minor": 0
      },
      "text/plain": [
       "Output()"
      ]
     },
     "metadata": {},
     "output_type": "display_data"
    }
   ],
   "source": [
    "df.sort_values(\"Unit Price\", ascending = False).head(10)"
   ]
  },
  {
   "cell_type": "markdown",
   "id": "70207982",
   "metadata": {},
   "source": [
    "Household is the costliest item type, with maximum unit cost 668.27. But sold at 502.54.\n",
    "- 9 regions bought total."
   ]
  },
  {
   "cell_type": "code",
   "execution_count": 35,
   "id": "0de78d36",
   "metadata": {},
   "outputs": [
    {
     "data": {
      "application/vnd.jupyter.widget-view+json": {
       "model_id": "bbf9f6210c9b4d84b80ed4033c202dee",
       "version_major": 2,
       "version_minor": 0
      },
      "text/plain": [
       "Button(description='Toggle Pandas/Lux', layout=Layout(top='5px', width='140px'), style=ButtonStyle())"
      ]
     },
     "metadata": {},
     "output_type": "display_data"
    },
    {
     "data": {
      "application/vnd.jupyter.widget-view+json": {
       "model_id": "36be80ba1ea74b51a2f46d95f8ba34d9",
       "version_major": 2,
       "version_minor": 0
      },
      "text/plain": [
       "Output()"
      ]
     },
     "metadata": {},
     "output_type": "display_data"
    }
   ],
   "source": [
    "df.sort_values(\"Unit Price\", ascending = False).tail(15)"
   ]
  },
  {
   "cell_type": "markdown",
   "id": "5a75c358",
   "metadata": {},
   "source": [
    "*Fruits* is the cheapest item type, with\n",
    "- minimum unit cost 9.33 . But sold at 6.92."
   ]
  },
  {
   "cell_type": "code",
   "execution_count": 36,
   "id": "ccc875a7",
   "metadata": {},
   "outputs": [
    {
     "data": {
      "application/vnd.jupyter.widget-view+json": {
       "model_id": "c734da671ab447d882e394b4e8180aa7",
       "version_major": 2,
       "version_minor": 0
      },
      "text/plain": [
       "Button(description='Toggle Pandas/Lux', layout=Layout(top='5px', width='140px'), style=ButtonStyle())"
      ]
     },
     "metadata": {},
     "output_type": "display_data"
    },
    {
     "data": {
      "application/vnd.jupyter.widget-view+json": {
       "model_id": "5b5369172d5640d39c90bfd0d3f1b39f",
       "version_major": 2,
       "version_minor": 0
      },
      "text/plain": [
       "Output()"
      ]
     },
     "metadata": {},
     "output_type": "display_data"
    }
   ],
   "source": [
    "df.sort_values(\"Unit Cost\", ascending = False).head(15)\n",
    "\n",
    "# Please refer the OCCURENCE graphs generated by LUX."
   ]
  },
  {
   "cell_type": "markdown",
   "id": "94aaa3bb",
   "metadata": {},
   "source": [
    "*Office supplies*\n",
    "\n",
    "    - 2nd highest unit price\n",
    "    - highest unit cost\n",
    "    - 12 regions bought(total)"
   ]
  },
  {
   "cell_type": "code",
   "execution_count": 37,
   "id": "168b93a8",
   "metadata": {
    "scrolled": true
   },
   "outputs": [
    {
     "data": {
      "application/vnd.jupyter.widget-view+json": {
       "model_id": "080e1cf0a1a74080804a83ec6d717737",
       "version_major": 2,
       "version_minor": 0
      },
      "text/plain": [
       "Button(description='Toggle Pandas/Lux', layout=Layout(top='5px', width='140px'), style=ButtonStyle())"
      ]
     },
     "metadata": {},
     "output_type": "display_data"
    },
    {
     "data": {
      "application/vnd.jupyter.widget-view+json": {
       "model_id": "4d1e28774b2643399adb3f7c3f6db0a7",
       "version_major": 2,
       "version_minor": 0
      },
      "text/plain": [
       "Output()"
      ]
     },
     "metadata": {},
     "output_type": "display_data"
    }
   ],
   "source": [
    "# Descending sorting of Total Revenue generated.\n",
    "\n",
    "df.sort_values(\"Total Revenue\", ascending = False)"
   ]
  },
  {
   "cell_type": "code",
   "execution_count": 38,
   "id": "dac3fccc",
   "metadata": {},
   "outputs": [
    {
     "data": {
      "application/vnd.jupyter.widget-view+json": {
       "model_id": "b28a1085abfd41faaeead7a3c636b8ea",
       "version_major": 2,
       "version_minor": 0
      },
      "text/plain": [
       "Button(description='Toggle Pandas/Lux', layout=Layout(top='5px', width='140px'), style=ButtonStyle())"
      ]
     },
     "metadata": {},
     "output_type": "display_data"
    },
    {
     "data": {
      "application/vnd.jupyter.widget-view+json": {
       "model_id": "dfc5edf383e94b9ca8e418e127c438ac",
       "version_major": 2,
       "version_minor": 0
      },
      "text/plain": [
       "Output()"
      ]
     },
     "metadata": {},
     "output_type": "display_data"
    }
   ],
   "source": [
    "# Descending sorting of Total Cost generated.\n",
    "\n",
    "df.sort_values(\"Total Cost\", ascending = False)"
   ]
  },
  {
   "cell_type": "code",
   "execution_count": 39,
   "id": "a6b12a41",
   "metadata": {},
   "outputs": [
    {
     "data": {
      "application/vnd.jupyter.widget-view+json": {
       "model_id": "a05e079afd7047809c0cce87ceccf399",
       "version_major": 2,
       "version_minor": 0
      },
      "text/plain": [
       "Button(description='Toggle Pandas/Lux', layout=Layout(top='5px', width='140px'), style=ButtonStyle())"
      ]
     },
     "metadata": {},
     "output_type": "display_data"
    },
    {
     "data": {
      "application/vnd.jupyter.widget-view+json": {
       "model_id": "012cb7330c5045cfb8036f48b59f421e",
       "version_major": 2,
       "version_minor": 0
      },
      "text/plain": [
       "Output()"
      ]
     },
     "metadata": {},
     "output_type": "display_data"
    }
   ],
   "source": [
    "# Descending sorting of Total Profit generated.\n",
    "\n",
    "df.sort_values(\"Total Profit\", ascending = False)"
   ]
  },
  {
   "cell_type": "markdown",
   "id": "842bde97",
   "metadata": {},
   "source": [
    "- Units sold * Unit Price = Total Revenue\n",
    "- Units sold * Unit Cost = Total Cost\n",
    "- Total Revenue - Total Cost = Total Profit"
   ]
  },
  {
   "cell_type": "code",
   "execution_count": 40,
   "id": "e6a54fbf",
   "metadata": {
    "scrolled": true
   },
   "outputs": [
    {
     "data": {
      "application/vnd.jupyter.widget-view+json": {
       "model_id": "e66dc2d9bf384b2f91163f6f415a4bc2",
       "version_major": 2,
       "version_minor": 0
      },
      "text/plain": [
       "Button(description='Toggle Pandas/Lux', layout=Layout(top='5px', width='140px'), style=ButtonStyle())"
      ]
     },
     "metadata": {},
     "output_type": "display_data"
    },
    {
     "data": {
      "application/vnd.jupyter.widget-view+json": {
       "model_id": "8fd04adbf2394349b6e1fefc71170dd9",
       "version_major": 2,
       "version_minor": 0
      },
      "text/plain": [
       "Output()"
      ]
     },
     "metadata": {},
     "output_type": "display_data"
    }
   ],
   "source": [
    "df[df[\"Country\"]==\"Pakistan\"]"
   ]
  },
  {
   "cell_type": "code",
   "execution_count": 41,
   "id": "547bf58b",
   "metadata": {},
   "outputs": [
    {
     "data": {
      "application/vnd.jupyter.widget-view+json": {
       "model_id": "d43c6b097b5d41c2a8334f3248b05ee9",
       "version_major": 2,
       "version_minor": 0
      },
      "text/plain": [
       "Button(description='Toggle Pandas/Lux', layout=Layout(top='5px', width='140px'), style=ButtonStyle())"
      ]
     },
     "metadata": {},
     "output_type": "display_data"
    },
    {
     "data": {
      "application/vnd.jupyter.widget-view+json": {
       "model_id": "debe8e2736014b0aa461240ccd292bff",
       "version_major": 2,
       "version_minor": 0
      },
      "text/plain": [
       "Output()"
      ]
     },
     "metadata": {},
     "output_type": "display_data"
    }
   ],
   "source": [
    "df[df[\"Country\"]==\"Afghanistan\"]"
   ]
  },
  {
   "cell_type": "code",
   "execution_count": 42,
   "id": "84138b1d",
   "metadata": {},
   "outputs": [
    {
     "data": {
      "application/vnd.jupyter.widget-view+json": {
       "model_id": "21a59994c0e0442b934c748662605b17",
       "version_major": 2,
       "version_minor": 0
      },
      "text/plain": [
       "Button(description='Toggle Pandas/Lux', layout=Layout(top='5px', width='140px'), style=ButtonStyle())"
      ]
     },
     "metadata": {},
     "output_type": "display_data"
    },
    {
     "data": {
      "application/vnd.jupyter.widget-view+json": {
       "model_id": "5618b5f329e54f5ebf4c0b7af1d27764",
       "version_major": 2,
       "version_minor": 0
      },
      "text/plain": [
       "Output()"
      ]
     },
     "metadata": {},
     "output_type": "display_data"
    }
   ],
   "source": [
    "df.isnull().sum()"
   ]
  },
  {
   "cell_type": "markdown",
   "id": "2bfa0af2",
   "metadata": {},
   "source": [
    "### No null values in the dataset.\n",
    " Hence, no cleaning needed."
   ]
  },
  {
   "cell_type": "code",
   "execution_count": 43,
   "id": "b17a30c2",
   "metadata": {},
   "outputs": [
    {
     "data": {
      "application/vnd.jupyter.widget-view+json": {
       "model_id": "55f357245d2f4f91826a82093eb17c54",
       "version_major": 2,
       "version_minor": 0
      },
      "text/plain": [
       "Button(description='Toggle Pandas/Lux', layout=Layout(top='5px', width='140px'), style=ButtonStyle())"
      ]
     },
     "metadata": {},
     "output_type": "display_data"
    },
    {
     "data": {
      "application/vnd.jupyter.widget-view+json": {
       "model_id": "8260e4d550574ec1be1ec5edefc76c1f",
       "version_major": 2,
       "version_minor": 0
      },
      "text/plain": [
       "Output()"
      ]
     },
     "metadata": {},
     "output_type": "display_data"
    }
   ],
   "source": [
    "df"
   ]
  },
  {
   "cell_type": "code",
   "execution_count": 44,
   "id": "5b7ae698",
   "metadata": {},
   "outputs": [
    {
     "data": {
      "application/vnd.jupyter.widget-view+json": {
       "model_id": "7a370f91657542f5a0904f57b227d4ca",
       "version_major": 2,
       "version_minor": 0
      },
      "text/plain": [
       "Button(description='Toggle Pandas/Lux', layout=Layout(top='5px', width='140px'), style=ButtonStyle())"
      ]
     },
     "metadata": {},
     "output_type": "display_data"
    },
    {
     "data": {
      "application/vnd.jupyter.widget-view+json": {
       "model_id": "9124771487544110b9d654641d487841",
       "version_major": 2,
       "version_minor": 0
      },
      "text/plain": [
       "Output()"
      ]
     },
     "metadata": {},
     "output_type": "display_data"
    }
   ],
   "source": [
    "df[((df[\"Order Priority\"]==\"H\") & (df[\"Item Type\"]==\"Cosmetics\"))]\n",
    "# choropleth maps using lux.. Mean of total profit and all.."
   ]
  },
  {
   "cell_type": "code",
   "execution_count": 45,
   "id": "e7650d0f",
   "metadata": {},
   "outputs": [
    {
     "data": {
      "application/vnd.jupyter.widget-view+json": {
       "model_id": "413bad9a91814792bb3dae3ffb59aac6",
       "version_major": 2,
       "version_minor": 0
      },
      "text/plain": [
       "Button(description='Toggle Pandas/Lux', layout=Layout(top='5px', width='140px'), style=ButtonStyle())"
      ]
     },
     "metadata": {},
     "output_type": "display_data"
    },
    {
     "data": {
      "application/vnd.jupyter.widget-view+json": {
       "model_id": "3ea158bafaef4b4f99c46c79bc05b0ce",
       "version_major": 2,
       "version_minor": 0
      },
      "text/plain": [
       "Output()"
      ]
     },
     "metadata": {},
     "output_type": "display_data"
    }
   ],
   "source": [
    "df[df[\"Item Type\"]==\"Cosmetics\"].nunique()\n"
   ]
  },
  {
   "cell_type": "code",
   "execution_count": 46,
   "id": "1939c4bf",
   "metadata": {},
   "outputs": [
    {
     "data": {
      "application/vnd.jupyter.widget-view+json": {
       "model_id": "7e38083ca8ff4f82b1b359d5837ccaf3",
       "version_major": 2,
       "version_minor": 0
      },
      "text/plain": [
       "Button(description='Toggle Pandas/Lux', layout=Layout(top='5px', width='140px'), style=ButtonStyle())"
      ]
     },
     "metadata": {},
     "output_type": "display_data"
    },
    {
     "data": {
      "application/vnd.jupyter.widget-view+json": {
       "model_id": "225a89ef8abe47b7a79d8c3b2d214f0e",
       "version_major": 2,
       "version_minor": 0
      },
      "text/plain": [
       "Output()"
      ]
     },
     "metadata": {},
     "output_type": "display_data"
    }
   ],
   "source": [
    "df"
   ]
  },
  {
   "cell_type": "code",
   "execution_count": null,
   "id": "e3001ce0",
   "metadata": {},
   "outputs": [],
   "source": []
  },
  {
   "cell_type": "code",
   "execution_count": null,
   "id": "d653fe47",
   "metadata": {},
   "outputs": [],
   "source": []
  }
 ],
 "metadata": {
  "kernelspec": {
   "display_name": "Python 3 (ipykernel)",
   "language": "python",
   "name": "python3"
  },
  "language_info": {
   "codemirror_mode": {
    "name": "ipython",
    "version": 3
   },
   "file_extension": ".py",
   "mimetype": "text/x-python",
   "name": "python",
   "nbconvert_exporter": "python",
   "pygments_lexer": "ipython3",
   "version": "3.9.13"
  }
 },
 "nbformat": 4,
 "nbformat_minor": 5
}
